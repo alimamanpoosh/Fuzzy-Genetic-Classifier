{
 "cells": [
  {
   "cell_type": "code",
   "execution_count": 2,
   "metadata": {},
   "outputs": [],
   "source": [
    "import random\n",
    "import matplotlib.pyplot as plt"
   ]
  },
  {
   "cell_type": "code",
   "execution_count": 3,
   "metadata": {},
   "outputs": [],
   "source": [
    "linguistic_variable = \"linguistic variable\"\n",
    "Paramerters_S = \"S\"\n",
    "Paramerters_M = \"M\"\n",
    "y = \"y\"\n",
    "type_Fuzzy_Set = \"fuzzy set\"\n",
    "rule = \"rule\"   \n",
    "structure = 'structure'\n",
    "being = 'being'\n",
    "not_list = 'not_list'\n",
    "term_choice = 'term_choice'\n",
    "elements = 'elements'\n",
    "fitness = 'fitness'\n",
    "gens = 'gens'\n",
    "gen_num = 5\n",
    "\n",
    "Max_S = 70   # 2 * 35   # calcualte the database\n",
    "Min_S = 0\n",
    "Max_M = 7    # 2*5\n",
    "Min_M = -11  # 2*-5\n",
    "element_num = 10\n",
    "max_num_of_features = 5\n",
    "linguistic = [\"very low\", \"low\", \"medium\", \"high\", \"very high\"]\n",
    "num_of_chromosoms = 10\n",
    "\n",
    "crossover_rate = 0.8\n",
    "mutation_rate = 0.1"
   ]
  },
  {
   "cell_type": "code",
   "execution_count": 4,
   "metadata": {},
   "outputs": [],
   "source": [
    "# This function creates a list of chromosomes.\n",
    "def create_chromosomes2(num_chromosomes):\n",
    "    # Initialize an empty list to store the chromosomes.\n",
    "    chromosomes = []\n",
    "    \n",
    "    # For each chromosome:\n",
    "    for i in range(num_chromosomes):\n",
    "        # Initialize an empty dictionary to store this chromosome's genetic material.\n",
    "        chro = dict()\n",
    "        chro[structure] = []\n",
    "        # For each genetic element (gene) in the chromosome:\n",
    "        for _ in range(gen_num):\n",
    "            # Initialize an empty dictionary to store this gene's features (linguistic variable, parameter S, parameter M, and type of fuzzy set).\n",
    "            gen = dict()\n",
    "            # Generate a random number between 3 and 5 to determine the number of linguistic variables in this feature.\n",
    "            num_feature = random.randint(3, 5)\n",
    "            # For each linguistic variable in this feature, randomly choose one from the set of possible linguistic variables and add it to the list of linguistic variables in this feature.\n",
    "            gen[linguistic_variable] = [random.choice(linguistic) for i in range(num_feature)]\n",
    "            # For each parameter S in this feature, randomly generate a floating-point number between Min_S and Max_S and add it to the list of S parameters in this feature.\n",
    "            gen[Paramerters_S] = [random.uniform(Min_S, Max_S) for i in range(num_feature)]\n",
    "            # For each parameter M in this feature, randomly generate a floating-point number between Min_M and Max_M and add it to the list of M parameters in this feature.\n",
    "            gen[Paramerters_M] = [random.uniform(Min_M, Max_M) for i in range(num_feature)]\n",
    "            # For each type of fuzzy set in this feature, randomly generate an integer between 1 and 4 and add it to the list of fuzzy set types in this feature.\n",
    "            gen[type_Fuzzy_Set] = [random.randint(1, 4) for i in range(num_feature)]\n",
    "            # Add the current gene (with its features) to this chromosome.\n",
    "            chro[structure].append(gen)\n",
    "        \n",
    "        # Initialize an empty dictionary to store the rule for this chromosome's genetic material.\n",
    "        gen_rule = dict()\n",
    "        # For each genetic element (gene) in the chromosome:\n",
    "        gen_rule[being] = [random.choice([0, 1]) for i in range(gen_num)]     # 1 ==> be   0 ==> not be\n",
    "        gen_rule[not_list] = [random.choice([0, 1]) for i in range(gen_num)]  # 1 ==> NOT   0 ==> self\n",
    "        gen_rule[term_choice] = [random.choice(linguistic) for i in range(gen_num)]   # which term?\n",
    "        gen_rule[y] = random.choice([0, 1])   # spam or ham\n",
    "        # Add the rule to this chromosome.\n",
    "        chro[rule] = gen_rule  \n",
    "        \n",
    "        chro[fitness] = 0\n",
    "        # Add this chromosome (with its genetic material and rule) to the list of chromosomes.\n",
    "        chromosomes.append(chro)\n",
    "        \n",
    "    # Return the list of chromosomes.\n",
    "    return chromosomes"
   ]
  },
  {
   "cell_type": "code",
   "execution_count": 5,
   "metadata": {},
   "outputs": [
    {
     "name": "stdout",
     "output_type": "stream",
     "text": [
      "3\n"
     ]
    }
   ],
   "source": [
    "chro = create_chromosomes2(2)\n",
    "print(len(chro[0]))\n",
    "# print(chro[0][structure][0][linguistic_variable])\n",
    "# print(chro[1][structure][0])\n",
    "\n",
    "parent1 = chro[0]\n",
    "parent2 = chro[1]\n",
    "\n",
    "#print(chro[0][structure][0][Paramerters_S])\n",
    "#print(chro[0][structure][1][Paramerters_S])\n",
    "# print(parent1)\n",
    "# print(parent2)\n",
    "# parent1_linguistic = chro[0][structure][0][linguistic_variable]\n",
    "# parent2_linguistic = chro[1][structure][0][linguistic_variable]\n",
    "\n",
    "# parent1_S = chro[0][structure][0][Paramerters_S]\n",
    "# parent2_S = chro[1][structure][0][Paramerters_S]\n",
    "\n",
    "# parent1_M = chro[0][structure][0][Paramerters_M]\n",
    "# parent2_M = chro[1][structure][0][Paramerters_M]\n",
    "\n",
    "# parent1_fuzzy = chro[0][structure][0][type_Fuzzy_Set]\n",
    "# parent2_fuzzy = chro[1][structure][0][type_Fuzzy_Set]\n",
    "\n",
    "# parent1_bein = chro[0][rule][being]\n",
    "# parent2_bein = chro[1][rule][being]\n",
    "\n",
    "# parent1_not_list = chro[0][rule][not_list]\n",
    "# parent2_not_list = chro[1][rule][not_list]\n",
    "\n",
    "# parent1_term_choice = chro[0][rule][term_choice]\n",
    "# parent2_term_choice = chro[1][rule][term_choice]\n"
   ]
  },
  {
   "cell_type": "code",
   "execution_count": 6,
   "metadata": {},
   "outputs": [],
   "source": [
    "# This function takes in two parents (sequences) and creates two offsprings by performing a continuous crossover.\n",
    "def crossover_continuous(parent1, parent2):    \n",
    "    # Set the alpha value for the crossover.\n",
    "    alpha = 0.25\n",
    "    offspring1 = []\n",
    "    offspring2 = []\n",
    "    # If the first sequence is longer than the second one:\n",
    "    if len(parent1) > len(parent2):\n",
    "        # Generate a list of random indexes for the shorter sequence.\n",
    "        indexes = random.sample(range(len(parent1)), len(parent2))\n",
    "        # For each index in the shorter parent: if the corresponding element in the longer parent is greater, perform a crossover calculation using alpha and add the results to offspring1 and offspring2. Otherwise, perform the calculation using the reverse order and add the results to offspring1 and offspring2.\n",
    "        for i in range(len(parent2)):\n",
    "            if parent2[i] > parent1[indexes[i]]:\n",
    "                distance = parent2[i] - parent1[indexes[i]]\n",
    "                offspring1.append(parent1[indexes[i]] + alpha * distance)\n",
    "                offspring2.append(parent2[i] - alpha * distance)\n",
    "            else:\n",
    "                distance = parent1[indexes[i]] - parent2[i]\n",
    "                offspring1.append(parent2[i] + alpha * distance)\n",
    "                offspring2.append(parent1[indexes[i]] - alpha * distance)\n",
    "                \n",
    "        # Add the remaining elements of the longer parent to the first offspring.     \n",
    "        temp = [item for item in [_ for _ in range(len(parent2))] if item not in indexes]\n",
    "        for i in range(len(temp)):\n",
    "            offspring1.append(parent1[temp[i]])\n",
    "        \n",
    "    # If the second sequence is longer than or the same length as the first one:\n",
    "    else:\n",
    "        # Generate a list of random indexes for the shorter sequence.\n",
    "        indexes = random.sample(range(len(parent2)), len(parent1))\n",
    "        # For each index in the shorter parent: if the corresponding element in the longer parent is greater, perform a crossover calculation using alpha and add the results to offspring1 and offspring2. Otherwise, perform the calculation using the reverse order and add the results to offspring1 and offspring2.\n",
    "        for i in range(len(parent1)):\n",
    "            if parent1[i] > parent2[indexes[i]]:\n",
    "                distance = parent1[i] - parent2[indexes[i]]\n",
    "                offspring1.append(parent2[indexes[i]] + alpha * distance)\n",
    "                offspring2.append(parent1[i] - alpha * distance)\n",
    "            else:\n",
    "                distance = parent2[indexes[i]] - parent1[i]\n",
    "                offspring1.append(parent1[i] + alpha * distance)\n",
    "                offspring2.append(parent2[indexes[i]] - alpha * distance)\n",
    "                \n",
    "        # Add the remaining elements of the longer parent to the second offspring. \n",
    "        temp = [item for item in [_ for _ in range(len(parent2))] if item not in indexes]\n",
    "        for i in range(len(temp)):\n",
    "            offspring2.append(parent2[temp[i]])\n",
    "    \n",
    "    # Return the two new offspring.\n",
    "    return offspring1, offspring2"
   ]
  },
  {
   "cell_type": "code",
   "execution_count": 7,
   "metadata": {},
   "outputs": [],
   "source": [
    "# This function takes in two parents (sequences) and creates two offsprings by performing a discrete crossover.\n",
    "def crossover_discrete(parent1, parent2):   \n",
    "    offspring1 = []\n",
    "    offspring2 = []\n",
    "    # If the first sequence is longer than the second one:\n",
    "    if len(parent1) > len(parent2):\n",
    "        # Generate a list of random indexes for the shorter sequence.\n",
    "        indexes = random.sample(range(len(parent1)), len(parent2))\n",
    "        # For each index in parent1: if it's in indexes, add the corresponding element to offspring2. Otherwise, add it to offspring1. \n",
    "        for i in range(len(parent1)):\n",
    "            if i in indexes:\n",
    "                offspring2.append(parent1[i])\n",
    "            else:\n",
    "                offspring1.append(parent1[i])\n",
    "        # Add all of parent2 to offspring1.\n",
    "        offspring1.extend(parent2)     \n",
    "    # If the second sequence is longer than or the same length as the first one:\n",
    "    else:\n",
    "        # Generate a list of random indexes for the shorter sequence.\n",
    "        indexes = random.sample(range(len(parent2)), len(parent1))\n",
    "        # For each index in parent2: if it's in indexes, add the corresponding element to offspring1. Otherwise, add it to offspring2. \n",
    "        for i in range(len(parent2)):\n",
    "            if i in indexes:\n",
    "                offspring1.append(parent2[i])\n",
    "            else:\n",
    "                offspring2.append(parent2[i])\n",
    "        # Add all of parent1 to offspring2.\n",
    "        offspring2.extend(parent1)\n",
    "    \n",
    "    # Return the two new offspring.\n",
    "    return offspring1, offspring2 \n"
   ]
  },
  {
   "cell_type": "code",
   "execution_count": 8,
   "metadata": {},
   "outputs": [],
   "source": [
    "def crossover(parent1, parent2):\n",
    "    structure1 = [dict() for i in range(max_num_of_features)]\n",
    "    structure2 = [dict() for i in range(max_num_of_features)]\n",
    "    \n",
    "    for i in range(max_num_of_features):\n",
    "        structure1[i][linguistic_variable], structure2[i][linguistic_variable] = crossover_discrete(parent1[structure][i][linguistic_variable], parent2[structure][i][linguistic_variable])\n",
    "        structure1[i][type_Fuzzy_Set], structure2[i][type_Fuzzy_Set] = crossover_discrete(parent1[structure][i][type_Fuzzy_Set], parent2[structure][i][type_Fuzzy_Set])\n",
    "        structure1[i][Paramerters_M], structure2[i][Paramerters_M] = crossover_continuous(parent1[structure][i][Paramerters_M], parent2[structure][i][Paramerters_M])\n",
    "        structure1[i][Paramerters_S], structure2[i][Paramerters_S] = crossover_continuous(parent1[structure][i][Paramerters_S], parent2[structure][i][Paramerters_S])\n",
    "    \n",
    "    \n",
    "    rule1 = dict()\n",
    "    rule2 = dict()\n",
    "    \n",
    "    rule1[being], rule2[being] = crossover_discrete(parent1[rule][being], parent2[rule][being])\n",
    "    rule1[not_list], rule2[not_list] = crossover_discrete(parent1[rule][not_list], parent2[rule][not_list])\n",
    "    rule1[term_choice], rule2[term_choice] = crossover_discrete(parent1[rule][term_choice], parent2[rule][term_choice])\n",
    "    rule1[y], rule2[y] = parent2[rule][y], parent1[rule][y]\n",
    "    \n",
    "    offspring1 = dict()\n",
    "    offspring1[structure] = structure1\n",
    "    offspring1[rule] = rule1\n",
    "    \n",
    "    offspring2 = dict()\n",
    "    offspring2[structure] = structure2\n",
    "    offspring2[rule] = rule2\n",
    "    \n",
    "    return offspring1, offspring2"
   ]
  },
  {
   "cell_type": "code",
   "execution_count": 9,
   "metadata": {},
   "outputs": [],
   "source": [
    "def mutation_linguistic_term_choice(parent):\n",
    "    \n",
    "    for i in range(len(parent)):\n",
    "        if random.uniform(0, 1) < mutation_rate:\n",
    "            # offspring.append(parent[i] + random.uniform(-1, 1) * mutation_step)\n",
    "            parent[i] = random.choice(linguistic)   \n",
    "        else:\n",
    "            pass\n",
    "    return parent"
   ]
  },
  {
   "cell_type": "code",
   "execution_count": 10,
   "metadata": {},
   "outputs": [],
   "source": [
    "def mutation_S(parent):\n",
    "    offspring = []\n",
    "    for i in range(len(parent)):\n",
    "        if random.uniform(0, 1) < mutation_rate:\n",
    "            parent[i] = random.uniform(Max_S, Min_S)\n",
    "        else:\n",
    "            pass\n",
    "    return parent"
   ]
  },
  {
   "cell_type": "code",
   "execution_count": 11,
   "metadata": {},
   "outputs": [],
   "source": [
    "def mutation_M(parent):\n",
    "    for i in range(len(parent)):\n",
    "        if random.uniform(0, 1) < mutation_rate:\n",
    "            parent[i] = random.uniform(Max_M, Min_M)\n",
    "        else:\n",
    "            pass\n",
    "    return parent"
   ]
  },
  {
   "cell_type": "code",
   "execution_count": 12,
   "metadata": {},
   "outputs": [],
   "source": [
    "def mutation_fuzzy(parent):\n",
    "    \n",
    "    for i in range(len(parent)):\n",
    "        if random.uniform(0, 1) < mutation_rate:\n",
    "            parent[i] = random.randint(0, 4) \n",
    "        else:\n",
    "            pass\n",
    "    return parent"
   ]
  },
  {
   "cell_type": "code",
   "execution_count": 13,
   "metadata": {},
   "outputs": [],
   "source": [
    "def mutation_being_not_list_term_choice(parent):\n",
    "    for i in range(len(parent)):\n",
    "        if random.uniform(0, 1) < mutation_rate:\n",
    "            parent[i] = (parent[i] * -1) +1\n",
    "        else:\n",
    "            pass\n",
    "    return parent"
   ]
  },
  {
   "cell_type": "code",
   "execution_count": 14,
   "metadata": {},
   "outputs": [],
   "source": [
    "def mutation(parent):\n",
    "    for i in range(gen_num):\n",
    "        parent[structure][i][linguistic_variable] = mutation_linguistic_term_choice(parent[structure][i][linguistic_variable])\n",
    "        parent[structure][i][type_Fuzzy_Set] = mutation_fuzzy(parent[structure][i][type_Fuzzy_Set])\n",
    "        parent[structure][i][Paramerters_M] = mutation_M(parent[structure][i][Paramerters_M])\n",
    "        parent[structure][i][Paramerters_S] = mutation_S(parent[structure][i][Paramerters_S])\n",
    "    \n",
    "    parent[rule][being] = mutation_being_not_list_term_choice(parent[rule][being])\n",
    "    parent[rule][not_list] = mutation_being_not_list_term_choice(parent[rule][not_list])\n",
    "    parent[rule][term_choice] = mutation_fuzzy(parent[rule][term_choice])\n",
    "    if random.uniform(0, 1) < mutation_rate:\n",
    "        parent[rule][y] = parent[rule][y] * -1 + 1\n",
    "\n",
    "    \n",
    "    return parent"
   ]
  },
  {
   "cell_type": "code",
   "execution_count": 15,
   "metadata": {},
   "outputs": [
    {
     "data": {
      "text/plain": [
       "5"
      ]
     },
     "execution_count": 15,
     "metadata": {},
     "output_type": "execute_result"
    }
   ],
   "source": [
    "len(parent2[structure])"
   ]
  },
  {
   "cell_type": "code",
   "execution_count": 16,
   "metadata": {},
   "outputs": [
    {
     "name": "stdout",
     "output_type": "stream",
     "text": [
      "{'structure': [{'linguistic variable': ['low', 'low', 'low', 'very low', 'very low'], 'S': [41.15783269020948, 33.24684580683457, 12.740430607118899, 27.049248670687767, 29.270546588480745], 'M': [1.9536365665101343, -0.8684199565215156, -7.5169261985211975, 0.3230713594601511, -2.8558925651363865], 'fuzzy set': [4, 3, 1, 1, 3]}, {'linguistic variable': ['medium', 'high', 'high', 'very high', 'medium'], 'S': [12.1887291662093, 58.03767136632001, 41.583312757047, 52.22058640982792, 69.61748611041047], 'M': [4.582043171806312, 4.431834945402743, -5.173537234907147, -5.372185140213045, -1.2510991810944354], 'fuzzy set': [4, 3, 1, 2, 2]}, {'linguistic variable': ['low', 'low', 'high'], 'S': [67.22505177376671, 42.68344757648992, 10.126542546615724], 'M': [6.479707204757119, -8.913204290673711, 3.8637874664797707], 'fuzzy set': [3, 4, 2]}, {'linguistic variable': ['very low', 'medium', 'high', 'very high', 'low'], 'S': [10.012738276011033, 34.87427142709743, 17.943748262666944, 28.476393814357383, 60.941758384320494], 'M': [2.4344553091328542, -6.228470151944153, -2.6679142665044626, 3.938206459441579, -9.703520598303037], 'fuzzy set': [4, 2, 4, 1, 2]}, {'linguistic variable': ['medium', 'low', 'low', 'low', 'very high'], 'S': [19.181846103690035, 68.05882505115656, 35.107981693019205, 17.509234373448667, 12.359102440512054], 'M': [-2.7974725453167135, -9.149127582739947, -9.983283320711745, -4.498176387264013, 3.9359800331533705], 'fuzzy set': [2, 4, 1, 4, 2]}], 'rule': {'being': [0, 0, 0, 0, 1], 'not_list': [0, 1, 1, 0, 1], 'term_choice': ['very low', 'very high', 'very low', 'very high', 'low'], 'y': 1}, 'fitness': 0}\n",
      "{'structure': [{'linguistic variable': ['low', 'very low', 'medium', 'very low'], 'S': [47.556894911496464, 3.5660694966977555, 39.09252403558448, 67.47932260027086], 'M': [6.135426078161785, 0.43281679328124056, 0.6304007518899244, -6.059696627813097], 'fuzzy set': [3, 1, 4, 2]}, {'linguistic variable': ['high', 'high', 'very low'], 'S': [47.43242575471392, 26.586530481986266, 1.7632609315315206], 'M': [-9.63477468570708, -1.4793065146231115, -6.323613066545519], 'fuzzy set': [2, 3, 4]}, {'linguistic variable': ['low', 'high', 'medium', 'very low'], 'S': [29.435153749984444, 67.30809931729844, 62.33282864701445, 29.031871100102776], 'M': [-2.1836049730929865, -1.9760930241356487, -6.794279867675194, 2.003181838292978], 'fuzzy set': [2, 1, 2, 1]}, {'linguistic variable': ['high', 'high', 'high'], 'S': [45.436842053648974, 38.56744274840614, 48.150414104118596], 'M': [4.922754918240194, 1.1959127078275387, 0.6624343740939302], 'fuzzy set': [2, 1, 3]}, {'linguistic variable': ['very high', 'medium', 'medium', 'high'], 'S': [68.24759211351403, 21.35279059695648, 36.33627056081326, 32.27048753979773], 'M': [-6.9694229020969045, 3.7415064579244337, 3.1675641911548063, -7.9587345442410395], 'fuzzy set': [4, 1, 1, 2]}], 'rule': {'being': [0, 1, 0, 1, 1], 'not_list': [0, 0, 0, 1, 0], 'term_choice': ['high', 'low', 'high', 'low', 'low'], 'y': 1}, 'fitness': 0}\n",
      "{'structure': [{'linguistic variable': ['low', 'low', 'very low', 'medium', 'very low'], 'fuzzy set': [3, 3, 1, 4, 2], 'M': [2.999083944423047, -5.529490450570588, -0.4937147794186556, -5.25874561214392, 0.3230713594601511], 'S': [21.44454668321329, 12.964010295075687, 34.70826536402205, 38.82274059142827, 27.049248670687767]}, {'linguistic variable': ['very high', 'medium', 'high', 'high', 'very low'], 'fuzzy set': [1, 2, 2, 3, 4], 'M': [-7.538855809553919, -4.249979554836138, -6.085756084962401, 4.582043171806312, 4.431834945402743], 'S': [20.999653313335454, 32.995044463946684, 15.831863540228644, 41.583312757047]}, {'linguistic variable': ['high', 'medium', 'very low'], 'fuzzy set': [2, 1, 1], 'M': [-3.475783099567116, -6.184107758432039, -0.5161229014817938], 'S': [63.55588442870251, 32.747227206610816, 24.421931739286403]}, {'linguistic variable': ['very low', 'low', 'high', 'high', 'high'], 'fuzzy set': [2, 4, 2, 1, 3], 'M': [4.1843435741412325, -1.7019575229214623, -7.112031855203795, 2.4344553091328542, -6.228470151944153], 'S': [24.81702171041245, 44.16102165738472, 19.54715723303792, 34.87427142709743]}, {'linguistic variable': ['medium', 'very high', 'medium', 'medium', 'high'], 'fuzzy set': [1, 4, 1, 1, 2], 'M': [-9.229818216058035, -2.438255675966901, -6.069954639266259, -6.6684190445099585], 'S': [31.448282606146034, 18.47012342932562, 44.266909183399086, 17.33694871533347, 35.107981693019205]}], 'rule': {'being': [0, 1, 0, 1, 1], 'not_list': [0, 0, 0, 1, 0], 'term_choice': ['high', 'low', 'high', 'low', 'low'], 'y': 1}}\n",
      "{'structure': [{'linguistic variable': ['low', 'low', 'very low', 'very low'], 'fuzzy set': [4, 1, 1, 3], 'M': [5.089978700248873, -1.554618954669369, 0.2556955747870644, -3.656843580805564], 'S': [38.85277883540208, 31.75989189183155, 37.631104478397006, 57.92712859732333]}, {'linguistic variable': ['medium', 'high', 'high'], 'fuzzy set': [4, 3, 2], 'M': [-3.3470180572475967, -2.4028641946941205, -5.610042121796163], 'S': [38.62150160758776, 45.812072427867506, 43.96906875762289]}, {'linguistic variable': ['low', 'low', 'low', 'high'], 'fuzzy set': [2, 3, 4, 2], 'M': [3.161210436649041, -0.7259146939486945, 2.403817343825916, -2.1836049730929865], 'S': [66.00199599207865, 39.371374119863546, 53.01271012462776, 29.031871100102776]}, {'linguistic variable': ['medium', 'high', 'very high'], 'fuzzy set': [4, 1, 2], 'M': [4.676617803540541, 0.22995596424453835, -1.9290543690053115], 'S': [38.56356860590347, 55.34817947534191, 38.61599514709171]}, {'linguistic variable': ['low', 'low', 'low', 'very high'], 'fuzzy set': [2, 4, 4, 2], 'M': [-7.7228880067506145, 1.6815857466273219, 0.08839124768111795, -4.087788045047795], 'S': [55.98115561105803, 20.391901541079527, 60.128186428570736, 27.29264126497631]}], 'rule': {'being': [0, 0, 0, 0, 1], 'not_list': [0, 1, 1, 0, 1], 'term_choice': ['very low', 'very high', 'very low', 'very high', 'low'], 'y': 1}}\n",
      "[21.44454668321329, 12.964010295075687, 34.70826536402205, 38.82274059142827, 27.049248670687767]\n",
      "[38.85277883540208, 31.75989189183155, 37.631104478397006, 57.92712859732333]\n",
      "[21.44454668321329, 12.964010295075687, 34.70826536402205, 38.82274059142827, 27.049248670687767]\n",
      "[38.85277883540208, 31.75989189183155, 41.07822842268894, 57.92712859732333]\n"
     ]
    }
   ],
   "source": [
    "print(parent1)\n",
    "print(parent2)\n",
    "child1, child2 = crossover(parent1, parent2)\n",
    "print(child1)\n",
    "print(child2)\n",
    "print(child1[structure][0][Paramerters_S])\n",
    "print(child2[structure][0][Paramerters_S])\n",
    "child1 = mutation(child1)\n",
    "child2 = mutation(child2)\n",
    "print(child1[structure][0][Paramerters_S])\n",
    "print(child2[structure][0][Paramerters_S])"
   ]
  },
  {
   "cell_type": "code",
   "execution_count": null,
   "metadata": {},
   "outputs": [],
   "source": [
    "\n",
    "\n",
    "\n",
    "def isosceles_triangular_fuzzy(x, m, s):\n",
    "    return np.max(np.min((x - m) / s, (m - x) / s), 0)\n",
    "def trapezoids_of_Malzawie_fuzzy(x, m, s):\n",
    "    return np.max(np.min((x - m) / s, 1), 0)\n",
    "def gaussian_fuzzy(x, m ,s):\n",
    "    return np.exp(-0.5 * ((x - m) / s) ** 2)\n",
    "def sigmoid_fuzzy(x, m ,s):\n",
    "    return 1 / (1 + np.exp((x - m) / s))\n",
    "# def Fc(R,numberOfrule):\n",
    "    \n",
    "    \n",
    "# def Fneg(Ruls,numberOfrule):\n",
    "#     for i in range(numberOfrule):\n",
    "#         pass\n",
    "\n",
    "def gR(xP, muA):\n",
    "    result = 1\n",
    "    for i in range(len(xP)):\n",
    "        result *= muA[i] * xP[i]\n",
    "    return result\n",
    "\n",
    "def gC(LOFL_xP, LOFL_muA, numberOfrule):  #  nothing\n",
    "    result = 0\n",
    "    for i in range(len(LOFL_xP)):\n",
    "        result += gR(LOFL_xP[i], LOFL_muA[i])\n",
    "    return result\n",
    "\n",
    "\n",
    "def Fc(LOFL_xP, LOFL_muA, numberOfrule):  #\n",
    "    result = 0\n",
    "    for i in range(len(LOFL_xP)):\n",
    "        result += gR(LOFL_xP[i], LOFL_muA[i])\n",
    "    return result\n",
    "\n",
    "def Fneg(LOFL_xP, LOFL_xP, number_another_rule):   # r = number_another_rule\n",
    "    return (1/r) * (Fc(LOFL_xP, LOFL_muA, number_another_rule))"
   ]
  },
  {
   "cell_type": "code",
   "execution_count": 17,
   "metadata": {},
   "outputs": [],
   "source": [
    "def fitness_function(chromosome):\n",
    "    pass"
   ]
  },
  {
   "cell_type": "code",
   "execution_count": 18,
   "metadata": {},
   "outputs": [],
   "source": [
    "def evalate_fitness(population):\n",
    "    for i in range(len(population)):\n",
    "        population[i][fitness] = fitness_function(population[i])\n",
    "    "
   ]
  }
 ],
 "metadata": {
  "kernelspec": {
   "display_name": "Python 3",
   "language": "python",
   "name": "python3"
  },
  "language_info": {
   "codemirror_mode": {
    "name": "ipython",
    "version": 3
   },
   "file_extension": ".py",
   "mimetype": "text/x-python",
   "name": "python",
   "nbconvert_exporter": "python",
   "pygments_lexer": "ipython3",
   "version": "3.10.11"
  },
  "orig_nbformat": 4
 },
 "nbformat": 4,
 "nbformat_minor": 2
}
