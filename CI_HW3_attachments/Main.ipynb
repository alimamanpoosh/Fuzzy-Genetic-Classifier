{
 "cells": [
  {
   "cell_type": "code",
   "execution_count": 29,
   "metadata": {},
   "outputs": [],
   "source": [
    "import random\n",
    "import matplotlib.pyplot as plt"
   ]
  },
  {
   "cell_type": "code",
   "execution_count": 45,
   "metadata": {},
   "outputs": [],
   "source": [
    "linguistic_variable = \"linguistic variable\"\n",
    "Paramerters_S = \"S\"\n",
    "Paramerters_M = \"M\"\n",
    "y = \"y\"\n",
    "type_Fuzzy_Set = \"fuzzy set\"\n",
    "rule = \"rule\"   \n",
    "structure = 'structure'\n",
    "being = 'being'\n",
    "not_list = 'not_list'\n",
    "term_choice = 'term_choice'\n",
    "elements = 'elements'\n",
    "fitness = 'fitness'\n",
    "gens = 'gens'\n",
    "gen_num = 5\n",
    "\n",
    "Max_S = 70   # 2 * 35   # calcualte the database\n",
    "Min_S = 0\n",
    "Max_M = 7    # 2*5\n",
    "Min_M = -11  # 2*-5\n",
    "element_num = 10\n",
    "max_num_of_features = 5\n",
    "linguistic = [\"very low\", \"low\", \"medium\", \"high\", \"very high\"]\n",
    "num_of_chromosoms = 10\n",
    "\n",
    "crossover_rate = 0.8\n",
    "mutation_rate = 0.1"
   ]
  },
  {
   "cell_type": "code",
   "execution_count": 31,
   "metadata": {},
   "outputs": [],
   "source": [
    "# This function creates a list of chromosomes.\n",
    "def create_chromosomes(num_chromosomes):\n",
    "    # Initialize an empty list to store the chromosomes.\n",
    "    chromosomes = []\n",
    "    \n",
    "    # For each chromosome:\n",
    "    for i in range(num_chromosomes):\n",
    "        # Initialize an empty dictionary to store this chromosome's genetic material.\n",
    "        chro = dict()\n",
    "        chro[structure] = []\n",
    "        # For each genetic element (gene) in the chromosome:\n",
    "        for _ in range(gen_num):\n",
    "            # Initialize an empty dictionary to store this gene's features (linguistic variable, parameter S, parameter M, and type of fuzzy set).\n",
    "            gen = dict()\n",
    "            # Generate a random number between 3 and 5 to determine the number of linguistic variables in this feature.\n",
    "            num_feature = random.randint(3, 5)\n",
    "            # For each linguistic variable in this feature, randomly choose one from the set of possible linguistic variables and add it to the list of linguistic variables in this feature.\n",
    "            gen[linguistic_variable] = [random.choice(linguistic) for i in range(num_feature)]\n",
    "            # For each parameter S in this feature, randomly generate a floating-point number between Min_S and Max_S and add it to the list of S parameters in this feature.\n",
    "            gen[Paramerters_S] = [random.uniform(Min_S, Max_S) for i in range(num_feature)]\n",
    "            # For each parameter M in this feature, randomly generate a floating-point number between Min_M and Max_M and add it to the list of M parameters in this feature.\n",
    "            gen[Paramerters_M] = [random.uniform(Min_M, Max_M) for i in range(num_feature)]\n",
    "            # For each type of fuzzy set in this feature, randomly generate an integer between 1 and 4 and add it to the list of fuzzy set types in this feature.\n",
    "            gen[type_Fuzzy_Set] = [random.randint(1, 4) for i in range(num_feature)]\n",
    "            # Add the current gene (with its features) to this chromosome.\n",
    "            chro[structure].append(gen)\n",
    "        \n",
    "        # Initialize an empty dictionary to store the rule for this chromosome's genetic material.\n",
    "        gen_rule = dict()\n",
    "        # For each genetic element (gene) in the chromosome:\n",
    "        gen_rule[being] = [random.choice([0, 1]) for i in range(gen_num)]     # 1 ==> be   0 ==> not be\n",
    "        gen_rule[not_list] = [random.choice([0, 1]) for i in range(gen_num)]  # 1 ==> NOT   0 ==> self\n",
    "        gen_rule[term_choice] = [random.choice(linguistic) for i in range(gen_num)]   # which term?\n",
    "        gen_rule[y] = random.choice([0, 1])   # spam or ham\n",
    "        # Add the rule to this chromosome.\n",
    "        chro[rule] = gen_rule  \n",
    "        \n",
    "        chro[fitness] = 0\n",
    "        # Add this chromosome (with its genetic material and rule) to the list of chromosomes.\n",
    "        chromosomes.append(chro)\n",
    "        \n",
    "    # Return the list of chromosomes.\n",
    "    return chromosomes"
   ]
  },
  {
   "cell_type": "code",
   "execution_count": 32,
   "metadata": {},
   "outputs": [
    {
     "name": "stdout",
     "output_type": "stream",
     "text": [
      "3\n"
     ]
    }
   ],
   "source": [
    "chro = create_chromosomes(2)\n",
    "print(len(chro[0]))\n",
    "# print(chro[0][structure][0][linguistic_variable])\n",
    "# print(chro[1][structure][0])\n",
    "\n",
    "parent1 = chro[0]\n",
    "parent2 = chro[1]\n",
    "\n",
    "#print(chro[0][structure][0][Paramerters_S])\n",
    "#print(chro[0][structure][1][Paramerters_S])\n",
    "# print(parent1)\n",
    "# print(parent2)\n",
    "# parent1_linguistic = chro[0][structure][0][linguistic_variable]\n",
    "# parent2_linguistic = chro[1][structure][0][linguistic_variable]\n",
    "\n",
    "# parent1_S = chro[0][structure][0][Paramerters_S]\n",
    "# parent2_S = chro[1][structure][0][Paramerters_S]\n",
    "\n",
    "# parent1_M = chro[0][structure][0][Paramerters_M]\n",
    "# parent2_M = chro[1][structure][0][Paramerters_M]\n",
    "\n",
    "# parent1_fuzzy = chro[0][structure][0][type_Fuzzy_Set]\n",
    "# parent2_fuzzy = chro[1][structure][0][type_Fuzzy_Set]\n",
    "\n",
    "# parent1_bein = chro[0][rule][being]\n",
    "# parent2_bein = chro[1][rule][being]\n",
    "\n",
    "# parent1_not_list = chro[0][rule][not_list]\n",
    "# parent2_not_list = chro[1][rule][not_list]\n",
    "\n",
    "# parent1_term_choice = chro[0][rule][term_choice]\n",
    "# parent2_term_choice = chro[1][rule][term_choice]\n"
   ]
  },
  {
   "cell_type": "code",
   "execution_count": 33,
   "metadata": {},
   "outputs": [],
   "source": [
    "# This function takes in two parents (sequences) and creates two offsprings by performing a continuous crossover.\n",
    "def crossover_continuous(parent1, parent2):    \n",
    "    # Set the alpha value for the crossover.\n",
    "    alpha = 0.25\n",
    "    offspring1 = []\n",
    "    offspring2 = []\n",
    "    # If the first sequence is longer than the second one:\n",
    "    if len(parent1) > len(parent2):\n",
    "        # Generate a list of random indexes for the shorter sequence.\n",
    "        indexes = random.sample(range(len(parent1)), len(parent2))\n",
    "        # For each index in the shorter parent: if the corresponding element in the longer parent is greater, perform a crossover calculation using alpha and add the results to offspring1 and offspring2. Otherwise, perform the calculation using the reverse order and add the results to offspring1 and offspring2.\n",
    "        for i in range(len(parent2)):\n",
    "            if parent2[i] > parent1[indexes[i]]:\n",
    "                distance = parent2[i] - parent1[indexes[i]]\n",
    "                offspring1.append(parent1[indexes[i]] + alpha * distance)\n",
    "                offspring2.append(parent2[i] - alpha * distance)\n",
    "            else:\n",
    "                distance = parent1[indexes[i]] - parent2[i]\n",
    "                offspring1.append(parent2[i] + alpha * distance)\n",
    "                offspring2.append(parent1[indexes[i]] - alpha * distance)\n",
    "                \n",
    "        # Add the remaining elements of the longer parent to the first offspring.     \n",
    "        temp = [item for item in [_ for _ in range(len(parent2))] if item not in indexes]\n",
    "        for i in range(len(temp)):\n",
    "            offspring1.append(parent1[temp[i]])\n",
    "        \n",
    "    # If the second sequence is longer than or the same length as the first one:\n",
    "    else:\n",
    "        # Generate a list of random indexes for the shorter sequence.\n",
    "        indexes = random.sample(range(len(parent2)), len(parent1))\n",
    "        # For each index in the shorter parent: if the corresponding element in the longer parent is greater, perform a crossover calculation using alpha and add the results to offspring1 and offspring2. Otherwise, perform the calculation using the reverse order and add the results to offspring1 and offspring2.\n",
    "        for i in range(len(parent1)):\n",
    "            if parent1[i] > parent2[indexes[i]]:\n",
    "                distance = parent1[i] - parent2[indexes[i]]\n",
    "                offspring1.append(parent2[indexes[i]] + alpha * distance)\n",
    "                offspring2.append(parent1[i] - alpha * distance)\n",
    "            else:\n",
    "                distance = parent2[indexes[i]] - parent1[i]\n",
    "                offspring1.append(parent1[i] + alpha * distance)\n",
    "                offspring2.append(parent2[indexes[i]] - alpha * distance)\n",
    "                \n",
    "        # Add the remaining elements of the longer parent to the second offspring. \n",
    "        temp = [item for item in [_ for _ in range(len(parent2))] if item not in indexes]\n",
    "        for i in range(len(temp)):\n",
    "            offspring2.append(parent2[temp[i]])\n",
    "    \n",
    "    # Return the two new offspring.\n",
    "    return offspring1, offspring2"
   ]
  },
  {
   "cell_type": "code",
   "execution_count": 34,
   "metadata": {},
   "outputs": [],
   "source": [
    "# This function takes in two parents (sequences) and creates two offsprings by performing a discrete crossover.\n",
    "def crossover_discrete(parent1, parent2):   \n",
    "    offspring1 = []\n",
    "    offspring2 = []\n",
    "    # If the first sequence is longer than the second one:\n",
    "    if len(parent1) > len(parent2):\n",
    "        # Generate a list of random indexes for the shorter sequence.\n",
    "        indexes = random.sample(range(len(parent1)), len(parent2))\n",
    "        # For each index in parent1: if it's in indexes, add the corresponding element to offspring2. Otherwise, add it to offspring1. \n",
    "        for i in range(len(parent1)):\n",
    "            if i in indexes:\n",
    "                offspring2.append(parent1[i])\n",
    "            else:\n",
    "                offspring1.append(parent1[i])\n",
    "        # Add all of parent2 to offspring1.\n",
    "        offspring1.extend(parent2)     \n",
    "    # If the second sequence is longer than or the same length as the first one:\n",
    "    else:\n",
    "        # Generate a list of random indexes for the shorter sequence.\n",
    "        indexes = random.sample(range(len(parent2)), len(parent1))\n",
    "        # For each index in parent2: if it's in indexes, add the corresponding element to offspring1. Otherwise, add it to offspring2. \n",
    "        for i in range(len(parent2)):\n",
    "            if i in indexes:\n",
    "                offspring1.append(parent2[i])\n",
    "            else:\n",
    "                offspring2.append(parent2[i])\n",
    "        # Add all of parent1 to offspring2.\n",
    "        offspring2.extend(parent1)\n",
    "    \n",
    "    # Return the two new offspring.\n",
    "    return offspring1, offspring2 \n"
   ]
  },
  {
   "cell_type": "code",
   "execution_count": 1,
   "metadata": {},
   "outputs": [],
   "source": [
    "def crossover_term_choice(parent1, parent2):\n",
    "    child1, child2 = crossover_discrete(parent1[rule][term_choice], parent2[rule][term_choice])\n",
    "    for i in range(len(child1)):\n",
    "        if child1[i] not in parent1[structure][i][linguistic_variable]:\n",
    "            child1[i] = random.choice(parent1[structure][i][linguistic_variable])\n",
    "    \n",
    "    for i in range(len(child2)):\n",
    "        if child2[i] not in parent2[structure][i][linguistic_variable]:\n",
    "            child2[i] = random.choice(parent2[structure][i][linguistic_variable])\n",
    "    \n",
    "    return child1, child2"
   ]
  },
  {
   "cell_type": "code",
   "execution_count": 35,
   "metadata": {},
   "outputs": [],
   "source": [
    "def crossover(parent1, parent2):\n",
    "    structure1 = [dict() for i in range(max_num_of_features)]\n",
    "    structure2 = [dict() for i in range(max_num_of_features)]\n",
    "    \n",
    "    for i in range(max_num_of_features):\n",
    "        structure1[i][linguistic_variable], structure2[i][linguistic_variable] = crossover_discrete(parent1[structure][i][linguistic_variable], parent2[structure][i][linguistic_variable])\n",
    "        structure1[i][type_Fuzzy_Set], structure2[i][type_Fuzzy_Set] = crossover_discrete(parent1[structure][i][type_Fuzzy_Set], parent2[structure][i][type_Fuzzy_Set])\n",
    "        structure1[i][Paramerters_M], structure2[i][Paramerters_M] = crossover_continuous(parent1[structure][i][Paramerters_M], parent2[structure][i][Paramerters_M])\n",
    "        structure1[i][Paramerters_S], structure2[i][Paramerters_S] = crossover_continuous(parent1[structure][i][Paramerters_S], parent2[structure][i][Paramerters_S])\n",
    "    \n",
    "    \n",
    "    rule1 = dict()\n",
    "    rule2 = dict()\n",
    "    \n",
    "    rule1[being], rule2[being] = crossover_discrete(parent1[rule][being], parent2[rule][being])\n",
    "    rule1[not_list], rule2[not_list] = crossover_discrete(parent1[rule][not_list], parent2[rule][not_list])\n",
    "    rule1[term_choice], rule2[term_choice] = crossover_term_choice(parent1, parent2)\n",
    "    \n",
    "    rule1[y], rule2[y] = parent2[rule][y], parent1[rule][y]\n",
    "    \n",
    "    offspring1 = dict()\n",
    "    offspring1[structure] = structure1\n",
    "    offspring1[rule] = rule1\n",
    "    \n",
    "    offspring2 = dict()\n",
    "    offspring2[structure] = structure2\n",
    "    offspring2[rule] = rule2\n",
    "    \n",
    "    return offspring1, offspring2"
   ]
  },
  {
   "cell_type": "code",
   "execution_count": 36,
   "metadata": {},
   "outputs": [],
   "source": [
    "def mutation_linguistic_term_choice(parent):\n",
    "    for i in range(len(parent)):\n",
    "        if random.uniform(0, 1) < mutation_rate:\n",
    "            parent[i] = random.choice(linguistic)   \n",
    "        else:\n",
    "            pass\n",
    "    return parent"
   ]
  },
  {
   "cell_type": "code",
   "execution_count": 37,
   "metadata": {},
   "outputs": [],
   "source": [
    "def mutation_S(parent):\n",
    "    for i in range(len(parent)):\n",
    "        if random.uniform(0, 1) < mutation_rate:\n",
    "            parent[i] = random.uniform(Max_S, Min_S)\n",
    "        else:\n",
    "            pass\n",
    "    return parent"
   ]
  },
  {
   "cell_type": "code",
   "execution_count": 38,
   "metadata": {},
   "outputs": [],
   "source": [
    "def mutation_M(parent):\n",
    "    for i in range(len(parent)):\n",
    "        if random.uniform(0, 1) < mutation_rate:\n",
    "            parent[i] = random.uniform(Max_M, Min_M)\n",
    "        else:\n",
    "            pass\n",
    "    return parent"
   ]
  },
  {
   "cell_type": "code",
   "execution_count": 39,
   "metadata": {},
   "outputs": [],
   "source": [
    "def mutation_fuzzy(parent):\n",
    "    for i in range(len(parent)):\n",
    "        if random.uniform(0, 1) < mutation_rate:\n",
    "            parent[i] = random.randint(0, 4) \n",
    "        else:\n",
    "            pass\n",
    "    return parent"
   ]
  },
  {
   "cell_type": "code",
   "execution_count": 40,
   "metadata": {},
   "outputs": [],
   "source": [
    "def mutation_being_notList(parent):\n",
    "    for i in range(len(parent[being])):\n",
    "        if random.uniform(0, 1) < mutation_rate:\n",
    "            parent[being][i] = parent[being][i] * -1 + 1\n",
    "        else:\n",
    "            pass\n",
    "    \n",
    "    for i in range(len(parent[not_list])):\n",
    "        if random.uniform(0, 1) < mutation_rate:\n",
    "            parent[not_list][i] = parent[not_list][i] * -1 + 1\n",
    "        else:\n",
    "            pass\n",
    "        \n",
    "    return parent"
   ]
  },
  {
   "cell_type": "code",
   "execution_count": null,
   "metadata": {},
   "outputs": [],
   "source": [
    "def mutation_term_choice(parent):\n",
    "    for i in range(len(parent[rule][term_choice])):\n",
    "        if random.uniform(0, 1) < mutation_rate:\n",
    "            parent[rule][term_choice][i] = random.choice(parent[structure][i][linguistic_variable])\n",
    "        else:\n",
    "            pass\n",
    "    return parent"
   ]
  },
  {
   "cell_type": "code",
   "execution_count": 41,
   "metadata": {},
   "outputs": [],
   "source": [
    "def mutation(parent):\n",
    "    for i in range(gen_num):\n",
    "        parent[structure][i][linguistic_variable] = mutation_linguistic_term_choice(parent[structure][i][linguistic_variable])\n",
    "        parent[structure][i][type_Fuzzy_Set] = mutation_fuzzy(parent[structure][i][type_Fuzzy_Set])\n",
    "        parent[structure][i][Paramerters_M] = mutation_M(parent[structure][i][Paramerters_M])\n",
    "        parent[structure][i][Paramerters_S] = mutation_S(parent[structure][i][Paramerters_S])\n",
    "    \n",
    "    parent[rule][being] = mutation_being_not_list_term_choice(parent[rule][being])\n",
    "    parent[rule][not_list] = mutation_being_not_list_term_choice(parent[rule][not_list])\n",
    "    parent[rule][term_choice] = mutation_fuzzy(parent[rule][term_choice])\n",
    "    \n",
    "    if random.uniform(0, 1) < mutation_rate:\n",
    "        parent[rule][y] = parent[rule][y] * -1 + 1\n",
    "\n",
    "    \n",
    "    return parent"
   ]
  },
  {
   "cell_type": "code",
   "execution_count": 42,
   "metadata": {},
   "outputs": [
    {
     "data": {
      "text/plain": [
       "5"
      ]
     },
     "execution_count": 42,
     "metadata": {},
     "output_type": "execute_result"
    }
   ],
   "source": [
    "len(parent2[structure])"
   ]
  },
  {
   "cell_type": "code",
   "execution_count": 43,
   "metadata": {},
   "outputs": [
    {
     "name": "stdout",
     "output_type": "stream",
     "text": [
      "{'structure': [{'linguistic variable': ['medium', 'very low', 'high'], 'S': [14.980037737948445, 45.38569762382225, 18.79322801645607], 'M': [-8.431723113877997, -2.4194831472910625, 4.361598091312956], 'fuzzy set': [2, 2, 1]}, {'linguistic variable': ['low', 'medium', 'high', 'very high'], 'S': [49.55103459111825, 49.79398709445603, 26.069180904818882, 64.25117935849102], 'M': [-0.5732354318983273, 4.557102113489131, 5.092684109649358, -5.528733205490455], 'fuzzy set': [2, 3, 1, 4]}, {'linguistic variable': ['medium', 'very high', 'very low'], 'S': [12.393668684006558, 57.324545832009115, 66.08106374755896], 'M': [-0.9211537086471733, 6.894282342349854, 4.606128775229383], 'fuzzy set': [3, 2, 4]}, {'linguistic variable': ['high', 'low', 'very low', 'very low'], 'S': [44.817906558382155, 27.771988715589345, 33.14633019350018, 17.39777190129656], 'M': [-10.306828998753025, 6.352962742513075, -1.0928723180786086, -0.07509459460786161], 'fuzzy set': [3, 1, 4, 1]}, {'linguistic variable': ['medium', 'very high', 'very high', 'low', 'very low'], 'S': [27.97699924912717, 46.75225729751155, 66.41642538954427, 10.564934524838739, 52.42936985328788], 'M': [5.225148479789961, 4.207047849378235, 0.04074874890418556, -7.854381769419, 5.5554629395515285], 'fuzzy set': [4, 1, 2, 4, 1]}], 'rule': {'being': [1, 0, 0, 1, 0], 'not_list': [0, 1, 0, 0, 1], 'term_choice': ['low', 'low', 'low', 'very high', 'very high']}, 'fitness': 0}\n",
      "{'structure': [{'linguistic variable': ['medium', 'low', 'medium'], 'S': [66.14554511489357, 3.9786076900001186, 64.02549866835382], 'M': [-2.045711568917852, 3.498188207230603, -10.635447995268798], 'fuzzy set': [1, 3, 4]}, {'linguistic variable': ['low', 'high', 'very low', 'low'], 'S': [3.0788800503610627, 38.392049519355794, 15.868035697916747, 67.8995340167556], 'M': [-10.157141396403787, -0.2218328844514943, 6.924860030296497, -2.0751505105229224], 'fuzzy set': [2, 1, 4, 4]}, {'linguistic variable': ['high', 'very high', 'medium', 'high', 'low'], 'S': [32.80955630139194, 16.768831578237187, 18.473125281660664, 46.72784580616629, 5.582576332367326], 'M': [-4.504667481754911, -0.018851370853480987, -2.5138377379745105, 5.913292914466464, 6.46673323773982], 'fuzzy set': [4, 2, 1, 2, 2]}, {'linguistic variable': ['very low', 'very high', 'high'], 'S': [37.81865125823113, 36.73941552686782, 57.65707097782105], 'M': [-7.1457541264038005, 4.270665436835378, 1.8399967486681987], 'fuzzy set': [3, 2, 1]}, {'linguistic variable': ['very low', 'low', 'very low', 'very low', 'high'], 'S': [63.84474389047441, 2.183206891716676, 24.706461153587277, 53.19817286673994, 24.648870750756732], 'M': [0.7132029798119497, 6.0182828823208006, -9.324240166878882, -0.24213019004512404, -10.240403709742132], 'fuzzy set': [1, 1, 1, 4, 3]}], 'rule': {'being': [0, 0, 0, 0, 0], 'not_list': [1, 1, 0, 0, 0], 'term_choice': ['very low', 'low', 'medium', 'low', 'very low']}, 'fitness': 0}\n",
      "{'structure': [{'linguistic variable': ['medium', 'low', 'medium'], 'fuzzy set': [1, 3, 4], 'M': [-6.8352202276379606, -8.581456783274364, 3.7140406782511914], 'S': [27.24140297054979, 50.57565949659008, 7.6822627716141065]}, {'linguistic variable': ['low', 'high', 'very low', 'low'], 'fuzzy set': [2, 1, 4, 4], 'M': [-7.761164905277422, -0.41708735451990897, 1.1067963640737188, -2.415334896543717], 'S': [41.18179578729641, 24.349523547051568, 8.826455263975518, 65.16326802305716]}, {'linguistic variable': ['medium', 'high', 'low'], 'fuzzy set': [4, 2, 1], 'M': [-3.6087890384779766, 1.7094320574473527, 4.932919810038653], 'S': [13.487459407564215, 18.518068707277774, 30.375109898135236]}, {'linguistic variable': ['very low', 'very low', 'very high', 'high'], 'fuzzy set': [1, 3, 2, 1], 'M': [-5.632533674322502, 1.0113454132529482, -7.270122561897718, 6.352962742513075], 'S': [39.56846508326888, 34.04460152684209, 35.243259281147274]}, {'linguistic variable': ['very low', 'low', 'very low', 'very low', 'high'], 'fuzzy set': [1, 1, 1, 4, 3], 'M': [-5.686893005211671, 1.586664197203521, -7.670115595080553, -5.951318874575531, 5.6711679252438465], 'S': [34.28229265353036, 51.025378945752266, 18.241511516173574, 14.100316182025873, 31.59399552638952]}], 'rule': {'being': [0, 0, 0, 0, 0], 'not_list': [1, 1, 0, 0, 0], 'term_choice': ['very low', 'low', 'medium', 'low', 'very low']}}\n",
      "{'structure': [{'linguistic variable': ['medium', 'very low', 'high'], 'fuzzy set': [2, 2, 1], 'M': [-3.6422144551578883, -4.473474359285497, 4.145745620292368], 'S': [51.76413343575248, 60.95558324212574, 15.089572934842082]}, {'linguistic variable': ['low', 'medium', 'high', 'very high'], 'fuzzy set': [2, 3, 1, 4], 'M': [-2.9692119230246923, 2.899038957486118, 3.764054861124145, 3.811461721349759], 'S': [46.76128832317764, 41.312499245321206, 20.321605691204425, 66.98744535218945]}, {'linguistic variable': ['high', 'very high', 'medium', 'very high', 'very low'], 'fuzzy set': [2, 2, 3, 2, 4], 'M': [-1.8170321519241077, 5.16599891404902, 5.5865018796571935, -2.5138377379745105, 6.46673323773982], 'S': [15.67504085467953, 44.38905345709867, 54.179079131084386, 32.80955630139194, 46.72784580616629]}, {'linguistic variable': ['high', 'low', 'very low'], 'fuzzy set': [3, 4, 1], 'M': [-2.606092770159907, 3.184225428974568, -1.196709688187107], 'S': [43.0680927333444, 35.84114419352591, 50.18580041226312]}, {'linguistic variable': ['medium', 'very high', 'very high', 'low', 'very low'], 'fuzzy set': [4, 1, 2, 4, 1], 'M': [1.5878013181227506, 3.3335866319866634, -2.529539365757394, -2.145193084888593, 5.9025778966284825], 'S': [46.892879462336744, 59.571622242233694, 50.35812076508738, 21.171079496400143, 45.484245077655096]}], 'rule': {'being': [1, 0, 0, 1, 0], 'not_list': [0, 1, 0, 0, 1], 'term_choice': ['low', 'low', 'low', 'very high', 'very high']}}\n",
      "[27.24140297054979, 50.57565949659008, 7.6822627716141065]\n",
      "[51.76413343575248, 60.95558324212574, 15.089572934842082]\n",
      "[27.24140297054979, 50.57565949659008, 7.6822627716141065]\n",
      "[51.76413343575248, 60.95558324212574, 15.089572934842082]\n"
     ]
    }
   ],
   "source": [
    "print(parent1)\n",
    "print(parent2)\n",
    "child1, child2 = crossover(parent1, parent2)\n",
    "print(child1)\n",
    "print(child2)\n",
    "print(child1[structure][0][Paramerters_S])\n",
    "print(child2[structure][0][Paramerters_S])\n",
    "child1 = mutation(child1)\n",
    "child2 = mutation(child2)\n",
    "print(child1[structure][0][Paramerters_S])\n",
    "print(child2[structure][0][Paramerters_S])"
   ]
  },
  {
   "cell_type": "code",
   "execution_count": null,
   "metadata": {},
   "outputs": [],
   "source": [
    "def fitness_function(chromosome):\n",
    "    pass"
   ]
  },
  {
   "cell_type": "code",
   "execution_count": 44,
   "metadata": {},
   "outputs": [],
   "source": [
    "def evalate_fitness(population):\n",
    "    for i in range(len(population)):\n",
    "        population[i][fitness] = fitness_function(population[i])\n",
    "    "
   ]
  }
 ],
 "metadata": {
  "kernelspec": {
   "display_name": "Python 3",
   "language": "python",
   "name": "python3"
  },
  "language_info": {
   "codemirror_mode": {
    "name": "ipython",
    "version": 3
   },
   "file_extension": ".py",
   "mimetype": "text/x-python",
   "name": "python",
   "nbconvert_exporter": "python",
   "pygments_lexer": "ipython3",
   "version": "3.9.7"
  },
  "orig_nbformat": 4
 },
 "nbformat": 4,
 "nbformat_minor": 2
}
