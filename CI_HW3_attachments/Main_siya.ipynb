{
 "cells": [
  {
   "cell_type": "code",
   "execution_count": 38,
   "metadata": {},
   "outputs": [],
   "source": [
    "import random\n",
    "import matplotlib.pyplot as plt"
   ]
  },
  {
   "cell_type": "code",
   "execution_count": 39,
   "metadata": {},
   "outputs": [],
   "source": [
    "linguistic_variable = \"linguistic variable\"\n",
    "Paramerters_S = \"S\"\n",
    "Paramerters_M = \"M\"\n",
    "y = \"y\"\n",
    "type_Fuzzy_Set = \"fuzzy set\"\n",
    "rule = \"rule\"   \n",
    "structure = 'structure'\n",
    "being = 'being'\n",
    "not_list = 'not_list'\n",
    "term_choice = 'term_choice'\n",
    "elements = 'elements'\n",
    "fitness = 'fitness'\n",
    "gens = 'gens'\n",
    "gen_num = 5\n",
    "\n",
    "Max_S = 70   # 2 * 35   # calcualte the database\n",
    "Min_S = 0\n",
    "Max_M = 7    # 2*5\n",
    "Min_M = -11  # 2*-5\n",
    "element_num = 10\n",
    "max_num_of_features = 5\n",
    "linguistic = [\"very low\", \"low\", \"medium\", \"high\", \"very high\"]\n",
    "num_of_chromosoms = 10\n",
    "\n",
    "crossover_rate = 0.8\n",
    "mutation_rate = 0.2"
   ]
  },
  {
   "cell_type": "code",
   "execution_count": 40,
   "metadata": {},
   "outputs": [],
   "source": [
    "# This function creates a list of chromosomes.\n",
    "def create_chromosomes(num_chromosomes):\n",
    "    # Initialize an empty list to store the chromosomes.\n",
    "    chromosomes = []\n",
    "    \n",
    "    # For each chromosome:\n",
    "    for i in range(num_chromosomes):\n",
    "        # Initialize an empty dictionary to store this chromosome's genetic material.\n",
    "        chro = dict()\n",
    "        chro[structure] = []\n",
    "        # For each genetic element (gene) in the chromosome:\n",
    "        for _ in range(gen_num):\n",
    "            # Initialize an empty dictionary to store this gene's features (linguistic variable, parameter S, parameter M, and type of fuzzy set).\n",
    "            gen = dict()\n",
    "            # Generate a random number between 3 and 5 to determine the number of linguistic variables in this feature.\n",
    "            num_feature = random.randint(3, 5)\n",
    "            # For each linguistic variable in this feature, randomly choose one from the set of possible linguistic variables and add it to the list of linguistic variables in this feature.\n",
    "            gen[linguistic_variable] = [random.choice(linguistic) for i in range(num_feature)]\n",
    "            # For each parameter S in this feature, randomly generate a floating-point number between Min_S and Max_S and add it to the list of S parameters in this feature.\n",
    "            gen[Paramerters_S] = [random.uniform(Min_S, Max_S) for i in range(num_feature)]\n",
    "            # For each parameter M in this feature, randomly generate a floating-point number between Min_M and Max_M and add it to the list of M parameters in this feature.\n",
    "            gen[Paramerters_M] = [random.uniform(Min_M, Max_M) for i in range(num_feature)]\n",
    "            # For each type of fuzzy set in this feature, randomly generate an integer between 1 and 4 and add it to the list of fuzzy set types in this feature.\n",
    "            gen[type_Fuzzy_Set] = [random.randint(1, 4) for i in range(num_feature)]\n",
    "            # Add the current gene (with its features) to this chromosome.\n",
    "            chro[structure].append(gen)\n",
    "        \n",
    "        # Initialize an empty dictionary to store the rule for this chromosome's genetic material.\n",
    "        gen_rule = dict()\n",
    "        # For each genetic element (gene) in the chromosome:\n",
    "        gen_rule[being] = [random.choice([0, 1]) for i in range(gen_num)]     # 1 ==> be   0 ==> not be\n",
    "        gen_rule[not_list] = [random.choice([0, 1]) for i in range(gen_num)]  # 1 ==> NOT   0 ==> self\n",
    "        gen_rule[term_choice] = [random.choice(chro[structure][i][linguistic_variable]) for i in range(gen_num)]   # which term?\n",
    "        gen_rule[y] = random.choice([0, 1])   # spam or ham\n",
    "        # Add the rule to this chromosome.\n",
    "        chro[rule] = gen_rule  \n",
    "        \n",
    "        chro[fitness] = 0\n",
    "        # Add this chromosome (with its genetic material and rule) to the list of chromosomes.\n",
    "        chromosomes.append(chro)\n",
    "        \n",
    "    # Return the list of chromosomes.\n",
    "    return chromosomes"
   ]
  },
  {
   "cell_type": "code",
   "execution_count": 41,
   "metadata": {},
   "outputs": [
    {
     "name": "stdout",
     "output_type": "stream",
     "text": [
      "3\n"
     ]
    }
   ],
   "source": [
    "chro = create_chromosomes(2)\n",
    "print(len(chro[0]))\n",
    "# print(chro[0][structure][0][linguistic_variable])\n",
    "# print(chro[1][structure][0])\n",
    "\n",
    "parent1 = chro[0]\n",
    "parent2 = chro[1]\n",
    "\n",
    "#print(chro[0][structure][0][Paramerters_S])\n",
    "#print(chro[0][structure][1][Paramerters_S])\n",
    "# print(parent1)\n",
    "# print(parent2)\n",
    "# parent1_linguistic = chro[0][structure][0][linguistic_variable]\n",
    "# parent2_linguistic = chro[1][structure][0][linguistic_variable]\n",
    "\n",
    "# parent1_S = chro[0][structure][0][Paramerters_S]\n",
    "# parent2_S = chro[1][structure][0][Paramerters_S]\n",
    "\n",
    "# parent1_M = chro[0][structure][0][Paramerters_M]\n",
    "# parent2_M = chro[1][structure][0][Paramerters_M]\n",
    "\n",
    "# parent1_fuzzy = chro[0][structure][0][type_Fuzzy_Set]\n",
    "# parent2_fuzzy = chro[1][structure][0][type_Fuzzy_Set]\n",
    "\n",
    "# parent1_bein = chro[0][rule][being]\n",
    "# parent2_bein = chro[1][rule][being]\n",
    "\n",
    "# parent1_not_list = chro[0][rule][not_list]\n",
    "# parent2_not_list = chro[1][rule][not_list]\n",
    "\n",
    "# parent1_term_choice = chro[0][rule][term_choice]\n",
    "# parent2_term_choice = chro[1][rule][term_choice]\n"
   ]
  },
  {
   "cell_type": "code",
   "execution_count": 42,
   "metadata": {},
   "outputs": [],
   "source": [
    "# This function takes in two parents (sequences) and creates two offsprings by performing a continuous crossover.\n",
    "def crossover_continuous(parent1, parent2):    \n",
    "    # Set the alpha value for the crossover.\n",
    "    alpha = 0.25\n",
    "    offspring1 = []\n",
    "    offspring2 = []\n",
    "    # If the first sequence is longer than the second one:\n",
    "    if len(parent1) > len(parent2):\n",
    "        # Generate a list of random indexes for the shorter sequence.\n",
    "        indexes = random.sample(range(len(parent1)), len(parent2))\n",
    "        # For each index in the shorter parent: if the corresponding element in the longer parent is greater, perform a crossover calculation using alpha and add the results to offspring1 and offspring2. Otherwise, perform the calculation using the reverse order and add the results to offspring1 and offspring2.\n",
    "        for i in range(len(parent2)):\n",
    "            if parent2[i] > parent1[indexes[i]]:\n",
    "                distance = parent2[i] - parent1[indexes[i]]\n",
    "                offspring1.append(parent1[indexes[i]] + alpha * distance)\n",
    "                offspring2.append(parent2[i] - alpha * distance)\n",
    "            else:\n",
    "                distance = parent1[indexes[i]] - parent2[i]\n",
    "                offspring1.append(parent2[i] + alpha * distance)\n",
    "                offspring2.append(parent1[indexes[i]] - alpha * distance)\n",
    "                \n",
    "        # Add the remaining elements of the longer parent to the first offspring.     \n",
    "        temp = [item for item in [_ for _ in range(len(parent2))] if item not in indexes]\n",
    "        for i in range(len(temp)):\n",
    "            offspring1.append(parent1[temp[i]])\n",
    "        \n",
    "    # If the second sequence is longer than or the same length as the first one:\n",
    "    else:\n",
    "        # Generate a list of random indexes for the shorter sequence.\n",
    "        indexes = random.sample(range(len(parent2)), len(parent1))\n",
    "        # For each index in the shorter parent: if the corresponding element in the longer parent is greater, perform a crossover calculation using alpha and add the results to offspring1 and offspring2. Otherwise, perform the calculation using the reverse order and add the results to offspring1 and offspring2.\n",
    "        for i in range(len(parent1)):\n",
    "            if parent1[i] > parent2[indexes[i]]:\n",
    "                distance = parent1[i] - parent2[indexes[i]]\n",
    "                offspring1.append(parent2[indexes[i]] + alpha * distance)\n",
    "                offspring2.append(parent1[i] - alpha * distance)\n",
    "            else:\n",
    "                distance = parent2[indexes[i]] - parent1[i]\n",
    "                offspring1.append(parent1[i] + alpha * distance)\n",
    "                offspring2.append(parent2[indexes[i]] - alpha * distance)\n",
    "                \n",
    "        # Add the remaining elements of the longer parent to the second offspring. \n",
    "        temp = [item for item in [_ for _ in range(len(parent2))] if item not in indexes]\n",
    "        for i in range(len(temp)):\n",
    "            offspring2.append(parent2[temp[i]])\n",
    "    \n",
    "    # Return the two new offspring.\n",
    "    return offspring1, offspring2"
   ]
  },
  {
   "cell_type": "code",
   "execution_count": 43,
   "metadata": {},
   "outputs": [],
   "source": [
    "# This function takes in two parents (sequences) and creates two offsprings by performing a discrete crossover.\n",
    "def crossover_discrete(parent1, parent2):   \n",
    "    offspring1 = []\n",
    "    offspring2 = []\n",
    "    # If the first sequence is longer than the second one:\n",
    "    if len(parent1) > len(parent2):\n",
    "        # Generate a list of random indexes for the shorter sequence.\n",
    "        indexes = random.sample(range(len(parent1)), len(parent2))\n",
    "        # For each index in parent1: if it's in indexes, add the corresponding element to offspring2. Otherwise, add it to offspring1. \n",
    "        for i in range(len(parent1)):\n",
    "            if i in indexes:\n",
    "                offspring2.append(parent1[i])\n",
    "            else:\n",
    "                offspring1.append(parent1[i])\n",
    "        # Add all of parent2 to offspring1.\n",
    "        offspring1.extend(parent2)     \n",
    "    # If the second sequence is longer than or the same length as the first one:\n",
    "    else:\n",
    "        # Generate a list of random indexes for the shorter sequence.\n",
    "        indexes = random.sample(range(len(parent2)), len(parent1))\n",
    "        # For each index in parent2: if it's in indexes, add the corresponding element to offspring1. Otherwise, add it to offspring2. \n",
    "        for i in range(len(parent2)):\n",
    "            if i in indexes:\n",
    "                offspring1.append(parent2[i])\n",
    "            else:\n",
    "                offspring2.append(parent2[i])\n",
    "        # Add all of parent1 to offspring2.\n",
    "        offspring2.extend(parent1)\n",
    "    \n",
    "    # Return the two new offspring.\n",
    "    return offspring1, offspring2 \n"
   ]
  },
  {
   "cell_type": "code",
   "execution_count": 44,
   "metadata": {},
   "outputs": [],
   "source": [
    "def crossover_term_choice(parent1, parent2):\n",
    "    child1, child2 = crossover_discrete(parent1[rule][term_choice], parent2[rule][term_choice])\n",
    "    for i in range(len(child1)):\n",
    "        if child1[i] not in parent1[structure][i][linguistic_variable]:\n",
    "            child1[i] = random.choice(parent1[structure][i][linguistic_variable])\n",
    "    \n",
    "    for i in range(len(child2)):\n",
    "        if child2[i] not in parent2[structure][i][linguistic_variable]:\n",
    "            child2[i] = random.choice(parent2[structure][i][linguistic_variable])\n",
    "    \n",
    "    return child1, child2"
   ]
  },
  {
   "cell_type": "code",
   "execution_count": 45,
   "metadata": {},
   "outputs": [],
   "source": [
    "def crossover(parent1, parent2):\n",
    "    structure1 = [dict() for i in range(max_num_of_features)]\n",
    "    structure2 = [dict() for i in range(max_num_of_features)]\n",
    "    \n",
    "    for i in range(max_num_of_features):\n",
    "        structure1[i][linguistic_variable], structure2[i][linguistic_variable] = crossover_discrete(parent1[structure][i][linguistic_variable], parent2[structure][i][linguistic_variable])\n",
    "        structure1[i][type_Fuzzy_Set], structure2[i][type_Fuzzy_Set] = crossover_discrete(parent1[structure][i][type_Fuzzy_Set], parent2[structure][i][type_Fuzzy_Set])\n",
    "        structure1[i][Paramerters_M], structure2[i][Paramerters_M] = crossover_continuous(parent1[structure][i][Paramerters_M], parent2[structure][i][Paramerters_M])\n",
    "        structure1[i][Paramerters_S], structure2[i][Paramerters_S] = crossover_continuous(parent1[structure][i][Paramerters_S], parent2[structure][i][Paramerters_S])\n",
    "    \n",
    "    \n",
    "    rule1 = dict()\n",
    "    rule2 = dict()\n",
    "    \n",
    "    rule1[being], rule2[being] = crossover_discrete(parent1[rule][being], parent2[rule][being])\n",
    "    rule1[not_list], rule2[not_list] = crossover_discrete(parent1[rule][not_list], parent2[rule][not_list])\n",
    "    rule1[term_choice], rule2[term_choice] = crossover_term_choice(parent1, parent2)\n",
    "    \n",
    "    rule1[y], rule2[y] = parent2[rule][y], parent1[rule][y]\n",
    "    \n",
    "    offspring1 = dict()\n",
    "    offspring1[structure] = structure1\n",
    "    offspring1[rule] = rule1\n",
    "    \n",
    "    offspring2 = dict()\n",
    "    offspring2[structure] = structure2\n",
    "    offspring2[rule] = rule2\n",
    "    \n",
    "    return offspring1, offspring2"
   ]
  },
  {
   "cell_type": "code",
   "execution_count": 46,
   "metadata": {},
   "outputs": [],
   "source": [
    "def mutation_linguistic(parent):\n",
    "    for i in range(len(parent)):\n",
    "        if random.uniform(0, 1) < mutation_rate:\n",
    "            parent[i] = random.choice(linguistic)   \n",
    "        else:\n",
    "            pass\n",
    "    return parent"
   ]
  },
  {
   "cell_type": "code",
   "execution_count": 47,
   "metadata": {},
   "outputs": [],
   "source": [
    "def mutation_S(parent):\n",
    "    for i in range(len(parent)):\n",
    "        if random.uniform(0, 1) < mutation_rate:\n",
    "            parent[i] = random.uniform(Max_S, Min_S)\n",
    "        else:\n",
    "            pass\n",
    "    return parent"
   ]
  },
  {
   "cell_type": "code",
   "execution_count": 48,
   "metadata": {},
   "outputs": [],
   "source": [
    "def mutation_M(parent):\n",
    "    for i in range(len(parent)):\n",
    "        if random.uniform(0, 1) < mutation_rate:\n",
    "            parent[i] = random.uniform(Max_M, Min_M)\n",
    "        else:\n",
    "            pass\n",
    "    return parent"
   ]
  },
  {
   "cell_type": "code",
   "execution_count": 49,
   "metadata": {},
   "outputs": [],
   "source": [
    "def mutation_fuzzy(parent):\n",
    "    for i in range(len(parent)):\n",
    "        if random.uniform(0, 1) < mutation_rate:\n",
    "            parent[i] = random.randint(0, 4) \n",
    "        else:\n",
    "            pass\n",
    "    return parent"
   ]
  },
  {
   "cell_type": "code",
   "execution_count": 50,
   "metadata": {},
   "outputs": [],
   "source": [
    "def mutation_being_notList(parent):\n",
    "    for i in range(len(parent[being])):\n",
    "        if random.uniform(0, 1) < mutation_rate:\n",
    "            parent[being][i] = parent[being][i] * -1 + 1\n",
    "        else:\n",
    "            pass\n",
    "    \n",
    "    for i in range(len(parent[not_list])):\n",
    "        if random.uniform(0, 1) < mutation_rate:\n",
    "            parent[not_list][i] = parent[not_list][i] * -1 + 1\n",
    "        else:\n",
    "            pass\n",
    "        \n",
    "    return parent"
   ]
  },
  {
   "cell_type": "code",
   "execution_count": 51,
   "metadata": {},
   "outputs": [],
   "source": [
    "def mutation_term_choice(parent):\n",
    "    for i in range(len(parent[rule][term_choice])):\n",
    "        if random.uniform(0, 1) < mutation_rate:\n",
    "            parent[rule][term_choice][i] = random.choice(parent[structure][i][linguistic_variable])\n",
    "        else:\n",
    "            pass\n",
    "    return parent"
   ]
  },
  {
   "cell_type": "code",
   "execution_count": 52,
   "metadata": {},
   "outputs": [],
   "source": [
    "def mutation(parent):\n",
    "    for i in range(gen_num):\n",
    "        parent[structure][i][linguistic_variable] = mutation_linguistic(parent[structure][i][linguistic_variable])\n",
    "        parent[structure][i][type_Fuzzy_Set] = mutation_fuzzy(parent[structure][i][type_Fuzzy_Set])\n",
    "        parent[structure][i][Paramerters_M] = mutation_M(parent[structure][i][Paramerters_M])\n",
    "        parent[structure][i][Paramerters_S] = mutation_S(parent[structure][i][Paramerters_S])\n",
    "    \n",
    "    parent[rule][not_list] = mutation_being_notList(parent[rule])\n",
    "    parent[rule][term_choice] = mutation_term_choice(parent)\n",
    "    \n",
    "    if random.uniform(0, 1) < mutation_rate:\n",
    "        parent[rule][y] = parent[rule][y] * -1 + 1\n",
    "\n",
    "    \n",
    "    return parent"
   ]
  },
  {
   "cell_type": "code",
   "execution_count": 53,
   "metadata": {},
   "outputs": [
    {
     "data": {
      "text/plain": [
       "5"
      ]
     },
     "execution_count": 53,
     "metadata": {},
     "output_type": "execute_result"
    }
   ],
   "source": [
    "len(parent2[structure])"
   ]
  },
  {
   "cell_type": "code",
   "execution_count": 54,
   "metadata": {},
   "outputs": [
    {
     "name": "stdout",
     "output_type": "stream",
     "text": [
      "{'structure': [{'linguistic variable': ['medium', 'low', 'medium'], 'S': [4.003129167027179, 67.2097568359315, 63.682348648277056], 'M': [-6.195140533586285, -8.942970430813714, -3.6215870320641708], 'fuzzy set': [2, 1, 1]}, {'linguistic variable': ['very high', 'low', 'low', 'very low', 'very low'], 'S': [22.058711833448662, 60.69863201252701, 41.92247498400878, 41.119811681148946, 7.775535888316044], 'M': [-4.562063675603675, -3.542201151750275, 1.88193327000063, 6.280211836721911, -9.945583979100244], 'fuzzy set': [1, 3, 4, 3, 4]}, {'linguistic variable': ['medium', 'very high', 'very high', 'very low'], 'S': [42.81200883683657, 60.77902450650162, 32.19864911702114, 55.540255748282526], 'M': [-7.458395648146616, -1.6322017966855515, -6.326349337044963, -6.091471966607598], 'fuzzy set': [3, 1, 4, 2]}, {'linguistic variable': ['low', 'high', 'very high', 'very low'], 'S': [6.748124889818675, 59.706957771679185, 19.427806565474743, 36.9993530849864], 'M': [3.456804372960349, 6.750313243276871, -5.333071764294766, 4.731691378231847], 'fuzzy set': [4, 3, 1, 1]}, {'linguistic variable': ['very low', 'very low', 'medium', 'very high'], 'S': [69.61941829185272, 50.86036883922339, 0.06407703071841797, 4.908522753279398], 'M': [6.21946372596544, -10.342824266330966, 4.852234339145943, -3.8531939787534775], 'fuzzy set': [4, 4, 1, 4]}], 'rule': {'being': [0, 1, 1, 1, 1], 'not_list': [0, 1, 1, 0, 0], 'term_choice': ['low', 'very low', 'very high', 'low', 'medium'], 'y': 0}, 'fitness': 0}\n",
      "{'structure': [{'linguistic variable': ['medium', 'low', 'medium'], 'S': [55.405011536868145, 61.952558768028304, 8.154612080178682], 'M': [-1.1893508150271899, -0.5518064427097489, -3.1096071314848395], 'fuzzy set': [1, 2, 2]}, {'linguistic variable': ['low', 'very low', 'medium', 'medium'], 'S': [64.3777177577704, 43.34616452249926, 58.92433005478023, 69.51462264814961], 'M': [-5.041237631332995, -5.843144006332641, 4.505604351791753, -7.289032267934118], 'fuzzy set': [2, 3, 3, 2]}, {'linguistic variable': ['very high', 'very low', 'medium', 'very high'], 'S': [65.02094461361368, 62.056611688633204, 56.87921305874475, 57.26781676910072], 'M': [-5.398340650581148, 5.837569373460035, 4.275246415846313, -10.439660789432535], 'fuzzy set': [1, 4, 1, 4]}, {'linguistic variable': ['low', 'high', 'very high', 'high'], 'S': [52.84406579371035, 15.779779837008531, 25.243497056003868, 61.42090143519432], 'M': [-0.8582615860903857, -6.374322946782042, -6.103418923261955, -7.254958455136348], 'fuzzy set': [3, 2, 4, 3]}, {'linguistic variable': ['very low', 'medium', 'very high', 'medium'], 'S': [13.072030518859933, 26.820851906489935, 61.67456247444107, 34.013188400534936], 'M': [4.487581685229523, -8.957180573088865, 5.556032330494311, -3.7372545557401278], 'fuzzy set': [4, 1, 4, 2]}], 'rule': {'being': [1, 0, 0, 1, 0], 'not_list': [1, 0, 0, 0, 0], 'term_choice': ['medium', 'medium', 'very high', 'very high', 'medium'], 'y': 1}, 'fitness': 0}\n",
      "{'structure': [{'linguistic variable': ['medium', 'low', 'medium'], 'fuzzy set': [1, 2, 2], 'M': [-4.784307010867151, -7.004565526867083, -3.493592056919338], 'S': [5.040999895315055, 63.266858285004105, 57.47434581472037]}, {'linguistic variable': ['very low', 'low', 'very low', 'medium', 'medium'], 'fuzzy set': [4, 2, 3, 3, 2], 'M': [-4.921444142400666, -2.812305045569003, 2.5378510404484107, -6.352324488888158], 'S': [47.536285677449186, 47.684281395006195, 20.562734429932092, 48.21851442289911, 22.058711833448662]}, {'linguistic variable': ['very high', 'very low', 'medium', 'very high'], 'fuzzy set': [1, 4, 1, 4], 'M': [-4.134404392744953, -8.23779604124579, -6.094347165429009, -3.49979237099412], 'S': [48.364242781030846, 61.09842130203452, 38.368790102452046, 55.972146003487076]}, {'linguistic variable': ['low', 'high', 'very high', 'high'], 'fuzzy set': [3, 2, 4, 3], 'M': [0.22050490367229791, -2.889985881627249, -6.114010151160223, -4.258295996794299], 'S': [18.272110115791595, 26.761574320676196, 20.881729188107023, 43.104740172538385]}, {'linguistic variable': ['very low', 'medium', 'very high', 'medium'], 'fuzzy set': [4, 1, 4, 2], 'M': [-5.163019498325289, -6.635222778440844, -1.5898823320186102, -1.5008874014415303], 'S': [42.91474587336438, 53.563917248027806, 6.753270749661297, 6.949399694674531]}], 'rule': {'being': [1, 0, 0, 1, 0], 'not_list': [1, 0, 0, 0, 0], 'term_choice': ['medium', 'low', 'very high', 'very high', 'medium'], 'y': 1}}\n",
      "{'structure': [{'linguistic variable': ['medium', 'low', 'medium'], 'fuzzy set': [2, 1, 1], 'M': [-1.9626399654288829, -3.127755718973821, -3.237602106629672], 'S': [7.116741351890806, 65.8954573189557, 61.61301437042483]}, {'linguistic variable': ['very high', 'low', 'low', 'very low'], 'fuzzy set': [1, 3, 4, 3], 'M': [-4.681857164536005, 3.249372875958273, 3.8496865813439722, -4.478908930796235], 'S': [58.76390706432999, 56.36051514002007, 46.13713151316418, 62.415919906399445]}, {'linguistic variable': ['medium', 'very high', 'very high', 'very low'], 'fuzzy set': [3, 1, 4, 2], 'M': [2.513578118058372, -3.8340665448722975, -5.630342822197102, 1.6835668202328353], 'S': [59.4687106694194, 61.73721489310031, 50.70907207331385, 56.83592651389617]}, {'linguistic variable': ['low', 'high', 'very high', 'very low'], 'fuzzy set': [4, 3, 1, 1], 'M': [2.378037883197665, 3.5368802016421643, -5.593384559916585, 1.7350289198897983], 'S': [41.320080567737435, 48.72516328801152, 23.789574433371588, 55.315514347642335]}, {'linguistic variable': ['very low', 'very low', 'medium', 'very high'], 'fuzzy set': [4, 4, 1, 4], 'M': [2.425302651201864, 0.7799801973394009, 2.704862115424425, 3.203725753182364], 'S': [60.71786081902328, 58.97101406563665, 20.131658187547057, 11.0311535774648]}], 'rule': {'being': [0, 1, 1, 1, 1], 'not_list': [0, 1, 1, 0, 0], 'term_choice': ['low', 'very low', 'very high', 'low', 'medium'], 'y': 0}}\n",
      "[5.040999895315055, 63.266858285004105, 57.47434581472037]\n",
      "[7.116741351890806, 65.8954573189557, 61.61301437042483]\n",
      "[5.040999895315055, 63.266858285004105, 57.47434581472037]\n",
      "[7.116741351890806, 65.8954573189557, 4.954404846461472]\n"
     ]
    }
   ],
   "source": [
    "print(parent1)\n",
    "print(parent2)\n",
    "child1, child2 = crossover(parent1, parent2)\n",
    "print(child1)\n",
    "print(child2)\n",
    "print(child1[structure][0][Paramerters_S])\n",
    "print(child2[structure][0][Paramerters_S])\n",
    "child1 = mutation(child1)\n",
    "child2 = mutation(child2)\n",
    "print(child1[structure][0][Paramerters_S])\n",
    "print(child2[structure][0][Paramerters_S])"
   ]
  },
  {
   "cell_type": "code",
   "execution_count": 55,
   "metadata": {},
   "outputs": [],
   "source": [
    "def fitness_function(chromosome):\n",
    "    pass"
   ]
  },
  {
   "cell_type": "code",
   "execution_count": 56,
   "metadata": {},
   "outputs": [],
   "source": [
    "def evalate_fitness(population):\n",
    "    for i in range(len(population)):\n",
    "        population[i][fitness] = fitness_function(population[i])\n",
    "    "
   ]
  }
 ],
 "metadata": {
  "kernelspec": {
   "display_name": "Python 3",
   "language": "python",
   "name": "python3"
  },
  "language_info": {
   "codemirror_mode": {
    "name": "ipython",
    "version": 3
   },
   "file_extension": ".py",
   "mimetype": "text/x-python",
   "name": "python",
   "nbconvert_exporter": "python",
   "pygments_lexer": "ipython3",
   "version": "3.9.7"
  },
  "orig_nbformat": 4
 },
 "nbformat": 4,
 "nbformat_minor": 2
}
