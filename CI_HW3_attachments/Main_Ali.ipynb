{
 "cells": [
  {
   "cell_type": "code",
   "execution_count": 2,
   "metadata": {},
   "outputs": [],
   "source": [
    "import random\n",
    "import matplotlib.pyplot as plt"
   ]
  },
  {
   "cell_type": "code",
   "execution_count": 20,
   "metadata": {},
   "outputs": [],
   "source": [
    "linguistic_variable = \"linguistic variable\"\n",
    "Paramerters_S = \"S\"\n",
    "Paramerters_M = \"M\"\n",
    "type_Fuzzy_Set = \"fuzzy set\"\n",
    "rule = \"rule\"   \n",
    "structure = 'structure'\n",
    "being = 'being'\n",
    "not_list = 'not_list'\n",
    "term_choice = 'term_choice'\n",
    "\n",
    "Max_S = 70   # 2 * 35   # calcualte the database\n",
    "Min_S = 0\n",
    "Max_M = 7    # 2*5\n",
    "Min_M = -11  # 2*-5\n",
    "\n",
    "num_gen = 5\n",
    "linguistic = [\"very low\", \"low\", \"medium\", \"high\", \"very high\"]\n",
    "\n",
    "mutation_rate = 0.1"
   ]
  },
  {
   "cell_type": "code",
   "execution_count": 4,
   "metadata": {},
   "outputs": [],
   "source": [
    "def create_chromosomes(num_chromosomes):\n",
    "    chromosomes = []\n",
    "    \n",
    "    for i in range(num_chromosomes):\n",
    "        chro = dict()\n",
    "        chro[structure] = []\n",
    "        for _ in range(num_gen):\n",
    "            gen = dict()\n",
    "            num_feature = random.randint(3, 5)\n",
    "            gen[linguistic_variable] = [random.choice(linguistic) for i in range(num_feature)]\n",
    "            gen[Paramerters_S] = [random.uniform(Min_S, Max_S) for i in range(num_feature)]\n",
    "            gen[Paramerters_M] = [random.uniform(Min_M, Max_M) for i in range(num_feature)]\n",
    "            gen[type_Fuzzy_Set] = [random.randint(1, 4) for i in range(num_feature)]\n",
    "            chro[structure].append(gen)\n",
    "        \n",
    "        gen_rule = dict()\n",
    "        gen_rule[being] = [random.choice([0, 1]) for i in range(num_gen)]     # 1 ==> be   0 ==> not be\n",
    "        gen_rule[not_list] = [random.choice([0, 1]) for i in range(num_gen)]  # 1 ==> NOT   0 == self\n",
    "        gen_rule[term_choice] = [random.choice(linguistic) for i in range(num_gen)]   # which term?\n",
    "        \n",
    "        chro[rule] = gen_rule  \n",
    "\n",
    "        chromosomes.append(chro)\n",
    "        \n",
    "        \n",
    "    return chromosomes\n",
    "            \n",
    "    "
   ]
  },
  {
   "cell_type": "code",
   "execution_count": 5,
   "metadata": {},
   "outputs": [],
   "source": [
    "# This function creates a list of chromosomes.\n",
    "def create_chromosomes2(num_chromosomes):\n",
    "    # Initialize an empty list to store the chromosomes.\n",
    "    chromosomes = []\n",
    "    \n",
    "    # For each chromosome:\n",
    "    for i in range(num_chromosomes):\n",
    "        # Initialize an empty dictionary to store this chromosome's genetic material.\n",
    "        chro = dict()\n",
    "        chro[structure] = []\n",
    "        # For each genetic element (gene) in the chromosome:\n",
    "        for _ in range(num_gen):\n",
    "            # Initialize an empty dictionary to store this gene's features (linguistic variable, parameter S, parameter M, and type of fuzzy set).\n",
    "            gen = dict()\n",
    "            # Generate a random number between 3 and 5 to determine the number of linguistic variables in this feature.\n",
    "            num_feature = random.randint(3, 5)\n",
    "            # For each linguistic variable in this feature, randomly choose one from the set of possible linguistic variables and add it to the list of linguistic variables in this feature.\n",
    "            gen[linguistic_variable] = [random.choice(linguistic) for i in range(num_feature)]\n",
    "            # For each parameter S in this feature, randomly generate a floating-point number between Min_S and Max_S and add it to the list of S parameters in this feature.\n",
    "            gen[Paramerters_S] = [random.uniform(Min_S, Max_S) for i in range(num_feature)]\n",
    "            # For each parameter M in this feature, randomly generate a floating-point number between Min_M and Max_M and add it to the list of M parameters in this feature.\n",
    "            gen[Paramerters_M] = [random.uniform(Min_M, Max_M) for i in range(num_feature)]\n",
    "            # For each type of fuzzy set in this feature, randomly generate an integer between 1 and 4 and add it to the list of fuzzy set types in this feature.\n",
    "            gen[type_Fuzzy_Set] = [random.randint(1, 4) for i in range(num_feature)]\n",
    "            # Add the current gene (with its features) to this chromosome.\n",
    "            chro[structure].append(gen)\n",
    "        \n",
    "        # Initialize an empty dictionary to store the rule for this chromosome's genetic material.\n",
    "        gen_rule = dict()\n",
    "        # For each genetic element (gene) in the chromosome:\n",
    "        gen_rule[being] = [random.choice([0, 1]) for i in range(num_gen)]     # 1 ==> be   0 ==> not be\n",
    "        gen_rule[not_list] = [random.choice([0, 1]) for i in range(num_gen)]  # 1 ==> NOT   0 ==> self\n",
    "        gen_rule[term_choice] = [random.choice(linguistic) for i in range(num_gen)]   # which term?\n",
    "        # Add the rule to this chromosome.\n",
    "        chro[rule] = gen_rule  \n",
    "        # Add this chromosome (with its genetic material and rule) to the list of chromosomes.\n",
    "        chromosomes.append(chro)\n",
    "        \n",
    "    # Return the list of chromosomes.\n",
    "    return chromosomes\n"
   ]
  },
  {
   "cell_type": "code",
   "execution_count": 6,
   "metadata": {},
   "outputs": [
    {
     "name": "stdout",
     "output_type": "stream",
     "text": [
      "['high', 'high', 'medium', 'medium', 'high']\n",
      "['high', 'very high', 'very low', 'medium', 'very low']\n",
      "[47.924952888358334, 31.1117216190044, 58.362282831989084, 29.246888522218324, 3.4683991197102113]\n",
      "[42.39419976066262, 55.224235205379685, 4.634748544168402, 13.568361975419421, 68.50416494976939]\n"
     ]
    }
   ],
   "source": [
    "chro = create_chromosomes2(2)\n",
    "# print(chro)\n",
    "# print(chro[0][structure][0][linguistic_variable])\n",
    "# print(chro[1][structure][0])\n",
    "\n",
    "parent1 = chro[0]\n",
    "parent2 = chro[1]\n",
    "print(parent1[structure][0][linguistic_variable])\n",
    "print(parent2[rule][term_choice])\n",
    "print(chro[0][structure][0][Paramerters_S])\n",
    "print(chro[0][structure][1][Paramerters_S])\n",
    "\n",
    "# print(parent1)\n",
    "# print(parent2)\n",
    "# parent1_linguistic = chro[0][structure][0][linguistic_variable]\n",
    "# parent2_linguistic = chro[1][structure][0][linguistic_variable]\n",
    "\n",
    "# parent1_S = chro[0][structure][0][Paramerters_S]\n",
    "# parent2_S = chro[1][structure][0][Paramerters_S]\n",
    "\n",
    "# parent1_M = chro[0][structure][0][Paramerters_M]\n",
    "# parent2_M = chro[1][structure][0][Paramerters_M]\n",
    "\n",
    "# parent1_fuzzy = chro[0][structure][0][type_Fuzzy_Set]\n",
    "# parent2_fuzzy = chro[1][structure][0][type_Fuzzy_Set]\n",
    "\n",
    "# parent1_bein = chro[0][rule][being]\n",
    "# parent2_bein = chro[1][rule][being]\n",
    "\n",
    "# parent1_not_list = chro[0][rule][not_list]\n",
    "# parent2_not_list = chro[1][rule][not_list]\n",
    "\n",
    "# parent1_term_choice = chro[0][rule][term_choice]\n",
    "# parent2_term_choice = chro[1][rule][term_choice]\n"
   ]
  },
  {
   "cell_type": "code",
   "execution_count": 8,
   "metadata": {},
   "outputs": [],
   "source": [
    "# This function takes in two parents (sequences) and creates two offsprings by performing a continuous crossover.\n",
    "def crossover_continuous(parent1, parent2):    \n",
    "    # Set the alpha value for the crossover.\n",
    "    alpha = 0.25\n",
    "    offspring1 = []\n",
    "    offspring2 = []\n",
    "    # If the first sequence is longer than the second one:\n",
    "    if len(parent1) > len(parent2):\n",
    "        # Generate a list of random indexes for the shorter sequence.\n",
    "        indexes = random.sample(range(len(parent1)), len(parent2))\n",
    "        # For each index in the shorter parent: if the corresponding element in the longer parent is greater, perform a crossover calculation using alpha and add the results to offspring1 and offspring2. Otherwise, perform the calculation using the reverse order and add the results to offspring1 and offspring2.\n",
    "        for i in range(len(parent2)):\n",
    "            if parent2[i] > parent1[indexes[i]]:\n",
    "                distance = parent2[i] - parent1[indexes[i]]\n",
    "                offspring1.append(parent1[indexes[i]] + alpha * distance)\n",
    "                offspring2.append(parent2[i] - alpha * distance)\n",
    "            else:\n",
    "                distance = parent1[indexes[i]] - parent2[i]\n",
    "                offspring1.append(parent2[i] + alpha * distance)\n",
    "                offspring2.append(parent1[indexes[i]] - alpha * distance)\n",
    "                \n",
    "        # Add the remaining elements of the longer parent to the first offspring.     \n",
    "        temp = [item for item in [_ for _ in range(len(parent2))] if item not in indexes]\n",
    "        for i in range(len(temp)):\n",
    "            offspring1.append(parent1[temp[i]])\n",
    "        \n",
    "    # If the second sequence is longer than or the same length as the first one:\n",
    "    else:\n",
    "        # Generate a list of random indexes for the shorter sequence.\n",
    "        indexes = random.sample(range(len(parent2)), len(parent1))\n",
    "        # For each index in the shorter parent: if the corresponding element in the longer parent is greater, perform a crossover calculation using alpha and add the results to offspring1 and offspring2. Otherwise, perform the calculation using the reverse order and add the results to offspring1 and offspring2.\n",
    "        for i in range(len(parent1)):\n",
    "            if parent1[i] > parent2[indexes[i]]:\n",
    "                distance = parent1[i] - parent2[indexes[i]]\n",
    "                offspring1.append(parent2[indexes[i]] + alpha * distance)\n",
    "                offspring2.append(parent1[i] - alpha * distance)\n",
    "            else:\n",
    "                distance = parent2[indexes[i]] - parent1[i]\n",
    "                offspring1.append(parent1[i] + alpha * distance)\n",
    "                offspring2.append(parent2[indexes[i]] - alpha * distance)\n",
    "                \n",
    "        # Add the remaining elements of the longer parent to the second offspring. \n",
    "        temp = [item for item in [_ for _ in range(len(parent2))] if item not in indexes]\n",
    "        for i in range(len(temp)):\n",
    "            offspring2.append(parent2[temp[i]])\n",
    "    \n",
    "    # Return the two new offspring.\n",
    "    return offspring1, offspring2\n"
   ]
  },
  {
   "cell_type": "code",
   "execution_count": 9,
   "metadata": {},
   "outputs": [],
   "source": [
    "def crossover_discrete2(parent1, parent2):   # گسسته\n",
    "    #indexes = []\n",
    "    if len(parent1) > len(parent2):\n",
    "        indexes = [random.randint(0,4) % len(parent2) for i in range(len(parent2))]\n",
    "        for i in range(len(parent1)):\n",
    "            if i in indexes:\n",
    "                offspring2.append(parent1[i])\n",
    "            else:\n",
    "                offspring1.append(parent1[i])\n",
    "        offspring1.extend(parent2)     \n",
    "    else:\n",
    "        indexes = [random.randint(0,4) % len(parent1) for i in range(len(parent1))]\n",
    "        for i in range(len(parent2)):\n",
    "            if i in indexes:\n",
    "                offspring1.append(parent2[i])\n",
    "            else:\n",
    "                offspring2.append(parent2[i])\n",
    "        offspring2.extend(parent1)  \n",
    "    \n",
    "    #print(indexes)\n",
    "    return offspring1, offspring2 \n",
    "        "
   ]
  },
  {
   "cell_type": "code",
   "execution_count": 10,
   "metadata": {},
   "outputs": [],
   "source": [
    "# This function takes in two parents (sequences) and creates two offsprings by performing a discrete crossover.\n",
    "def crossover_discrete(parent1, parent2):   \n",
    "    offspring1 = []\n",
    "    offspring2 = []\n",
    "    # If the first sequence is longer than the second one:\n",
    "    if len(parent1) > len(parent2):\n",
    "        # Generate a list of random indexes for the shorter sequence.\n",
    "        indexes = random.sample(range(len(parent1)), len(parent2))\n",
    "        # For each index in parent1: if it's in indexes, add the corresponding element to offspring2. Otherwise, add it to offspring1. \n",
    "        for i in range(len(parent1)):\n",
    "            if i in indexes:\n",
    "                offspring2.append(parent1[i])\n",
    "            else:\n",
    "                offspring1.append(parent1[i])\n",
    "        # Add all of parent2 to offspring1.\n",
    "        offspring1.extend(parent2)     \n",
    "    # If the second sequence is longer than or the same length as the first one:\n",
    "    else:\n",
    "        # Generate a list of random indexes for the shorter sequence.\n",
    "        indexes = random.sample(range(len(parent2)), len(parent1))\n",
    "        # For each index in parent2: if it's in indexes, add the corresponding element to offspring1. Otherwise, add it to offspring2. \n",
    "        for i in range(len(parent2)):\n",
    "            if i in indexes:\n",
    "                offspring1.append(parent2[i])\n",
    "            else:\n",
    "                offspring2.append(parent2[i])\n",
    "        # Add all of parent1 to offspring2.\n",
    "        offspring2.extend(parent1)\n",
    "    \n",
    "    # Return the two new offspring.\n",
    "    return offspring1, offspring2 \n"
   ]
  },
  {
   "cell_type": "code",
   "execution_count": 11,
   "metadata": {},
   "outputs": [],
   "source": [
    "def crossover(parent1, parent2):\n",
    "    structure1 = [dict() for i in range(num_gen)]\n",
    "    structure2 = [dict() for i in range(num_gen)]\n",
    "    \n",
    "    for i in range(num_gen):\n",
    "        structure1[i][linguistic_variable], structure2[i][linguistic_variable] = crossover_discrete(parent1[structure][i][linguistic_variable], parent2[structure][i][linguistic_variable])\n",
    "        structure1[i][type_Fuzzy_Set], structure2[i][type_Fuzzy_Set] = crossover_discrete(parent1[structure][i][type_Fuzzy_Set], parent2[structure][i][type_Fuzzy_Set])\n",
    "        structure1[i][Paramerters_M], structure2[i][Paramerters_M] = crossover_continuous(parent1[structure][i][Paramerters_M], parent2[structure][i][Paramerters_M])\n",
    "        structure1[i][Paramerters_S], structure2[i][Paramerters_S] = crossover_continuous(parent1[structure][i][Paramerters_S], parent2[structure][i][Paramerters_S])\n",
    "    \n",
    "    \n",
    "    rule1 = dict()\n",
    "    rule2 = dict()\n",
    "    \n",
    "    rule1[being], rule2[being] = crossover_discrete(parent1[rule][being], parent2[rule][being])\n",
    "    rule1[not_list], rule2[not_list] = crossover_discrete(parent1[rule][not_list], parent2[rule][not_list])\n",
    "    rule1[term_choice], rule2[term_choice] = crossover_discrete(parent1[rule][term_choice], parent2[rule][term_choice])\n",
    "    \n",
    "    offspring1 = dict()\n",
    "    offspring1[structure] = structure1\n",
    "    offspring1[rule] = rule1\n",
    "    \n",
    "    offspring2 = dict()\n",
    "    offspring2[structure] = structure2\n",
    "    offspring2[rule] = rule2\n",
    "    \n",
    "    return offspring1, offspring2\n",
    "\n",
    "    "
   ]
  },
  {
   "cell_type": "code",
   "execution_count": null,
   "metadata": {},
   "outputs": [
    {
     "data": {
      "text/plain": [
       "5"
      ]
     },
     "execution_count": 140,
     "metadata": {},
     "output_type": "execute_result"
    }
   ],
   "source": [
    "len(parent2[structure])"
   ]
  },
  {
   "cell_type": "code",
   "execution_count": 12,
   "metadata": {},
   "outputs": [
    {
     "name": "stdout",
     "output_type": "stream",
     "text": [
      "{'structure': [{'linguistic variable': ['high', 'high', 'medium', 'medium', 'high'], 'S': [47.924952888358334, 31.1117216190044, 58.362282831989084, 29.246888522218324, 3.4683991197102113], 'M': [2.261630016693708, -8.048687525057273, 5.336247067495371, 2.9725727849448162, -8.472468510998837], 'fuzzy set': [4, 1, 3, 4, 2]}, {'linguistic variable': ['very low', 'low', 'medium', 'very high', 'low'], 'S': [42.39419976066262, 55.224235205379685, 4.634748544168402, 13.568361975419421, 68.50416494976939], 'M': [-8.86852965157912, 2.6034693032158813, 1.7698794713699222, 5.219960991689735, -6.771996229201582], 'fuzzy set': [3, 3, 3, 1, 2]}, {'linguistic variable': ['high', 'low', 'medium', 'medium'], 'S': [13.579327617918882, 54.74093912188427, 44.11486342588053, 49.45365332383269], 'M': [-3.0625628776852984, -6.090171017627317, -10.02088552381539, 0.9419973610191672], 'fuzzy set': [1, 4, 2, 1]}, {'linguistic variable': ['low', 'very low', 'very low', 'high', 'very low'], 'S': [5.558366457991144, 62.61950583945485, 17.713405712990653, 60.782381682210854, 48.9293777862895], 'M': [-7.6763293786810864, 2.1561460586904087, 0.5913741198040761, -10.356210441617879, 3.421934534783487], 'fuzzy set': [3, 3, 3, 2, 4]}, {'linguistic variable': ['low', 'low', 'high', 'medium'], 'S': [67.09427827689879, 0.5959415885994135, 62.72742921538408, 5.6178537732310705], 'M': [-4.3219331867759765, -10.500455884463202, -1.6351413845536982, 0.9033033359045639], 'fuzzy set': [2, 2, 1, 4]}], 'rule': {'being': [0, 0, 1, 1, 0], 'not_list': [1, 0, 1, 0, 1], 'term_choice': ['low', 'very high', 'low', 'low', 'very high']}}\n",
      "{'structure': [{'linguistic variable': ['low', 'very low', 'high', 'very low'], 'S': [67.34668263975746, 24.568018315451283, 51.1346534693991, 40.99149428171004], 'M': [-5.177701125726251, -7.580502135237965, -8.917496880046546, -7.38867239509432], 'fuzzy set': [3, 1, 4, 1]}, {'linguistic variable': ['high', 'low', 'high', 'very low'], 'S': [2.458548668468886, 7.1847943426482015, 26.951438703635194, 41.83486720600727], 'M': [6.266920661707065, -5.295513090144685, -7.058763746192995, -8.076302700681566], 'fuzzy set': [3, 4, 3, 3]}, {'linguistic variable': ['medium', 'low', 'medium', 'very low'], 'S': [17.749991096008937, 45.99620470822991, 36.24736937223661, 45.69168859661959], 'M': [-2.138623523177385, 6.278260569673737, 1.7721363811783313, -1.5320823771826344], 'fuzzy set': [4, 2, 1, 3]}, {'linguistic variable': ['medium', 'medium', 'high'], 'S': [35.749436285910136, 6.92195978897738, 58.03711811110885], 'M': [-2.185235894714884, -2.344010165360837, -0.5614906955171346], 'fuzzy set': [2, 1, 3]}, {'linguistic variable': ['low', 'very low', 'medium'], 'S': [45.5646212488008, 46.169385321964796, 40.91910925197228], 'M': [3.601444534040283, 0.9931599799852133, -2.177339765674933], 'fuzzy set': [1, 2, 2]}], 'rule': {'being': [1, 0, 0, 0, 0], 'not_list': [0, 0, 1, 1, 1], 'term_choice': ['high', 'very high', 'very low', 'medium', 'very low']}}\n",
      "{'structure': [{'linguistic variable': ['high', 'low', 'very low', 'high', 'very low'], 'fuzzy set': [1, 3, 1, 4, 1], 'M': [-3.3178683401212608, -4.94223340519227, -8.80623978778462, -4.207442529446897, -8.048687525057273], 'S': [40.17046187419267, 33.01658444458573, 15.384962707132432, 32.18303996209125, 47.924952888358334]}, {'linguistic variable': ['low', 'high', 'low', 'high', 'very low'], 'fuzzy set': [3, 3, 4, 3, 3], 'M': [3.5193321428386772, -2.6666445696860803, -4.851602941802266, -8.67047291385473], 'S': [12.44246144151732, 19.194654558331074, 10.2139210840351, 48.502191641947796, 13.568361975419421]}, {'linguistic variable': ['medium', 'low', 'medium', 'very low'], 'fuzzy set': [4, 2, 1, 3], 'M': [-1.853888062969391, -4.950648857516146, -5.946099000443109, -1.3684683021282469], 'S': [14.621993487441395, 40.87076180964853, 44.585198746467874, 46.632179778422866]}, {'linguistic variable': ['very low', 'very low', 'medium', 'medium', 'high'], 'fuzzy set': [3, 3, 2, 1, 3], 'M': [-1.0998904063635608, -1.6101640940696087, -5.897619707890098], 'S': [22.222413356220525, 20.846346301596746, 58.72343400388435, 5.558366457991144]}, {'linguistic variable': ['high', 'low', 'very low', 'medium'], 'fuzzy set': [2, 1, 2, 2], 'M': [-6.974980779837331, -2.993159895085679, -1.4071789902800589, -1.6351413845536982], 'S': [50.9470355058253, 15.755736660414502, 46.37118924282523, 0.5959415885994135]}], 'rule': {'being': [1, 0, 0, 0, 0], 'not_list': [0, 0, 1, 1, 1], 'term_choice': ['high', 'very high', 'very low', 'medium', 'very low']}}\n",
      "{'structure': [{'linguistic variable': ['high', 'high', 'medium', 'medium'], 'fuzzy set': [4, 3, 4, 2], 'M': [0.40179723108871834, 0.3343040548991212, -8.583725603260763, 2.1550172018479485], 'S': [58.28794238456919, 49.913716702854636, 39.21808988197688, 38.05534284183711]}, {'linguistic variable': ['very low', 'low', 'medium', 'very high'], 'fuzzy set': [3, 3, 1, 2], 'M': [5.351057822084269, 2.5910924712311303, -0.43728133302080696, -8.274359438405956], 'S': [32.410286987614185, 43.214374989696815, 21.372266163768497, 61.83684051382886]}, {'linguistic variable': ['high', 'low', 'medium', 'medium'], 'fuzzy set': [1, 4, 2, 1], 'M': [0.5634615664624238, -2.6716045372938053, 2.203474046301455, 0.17184213997002917], 'S': [16.707325226486425, 50.11754668447235, 45.525869387642565, 48.513162142029415]}, {'linguistic variable': ['low', 'high', 'very low'], 'fuzzy set': [3, 2, 4], 'M': [1.0708005703390855, -0.1424719514871522, -2.340200366308123], 'S': [31.240428642680264, 48.69511932683548, 60.09606578943536]}, {'linguistic variable': ['low', 'low', 'medium'], 'fuzzy set': [2, 1, 4], 'M': [0.07596942941441176, -0.3356133117050841, 0.13314256050968964], 'S': [61.71186401987429, 36.031502434781366, 57.275349224531126]}], 'rule': {'being': [0, 0, 1, 1, 0], 'not_list': [1, 0, 1, 0, 1], 'term_choice': ['low', 'very high', 'low', 'low', 'very high']}}\n",
      "[40.17046187419267, 33.01658444458573, 15.384962707132432, 32.18303996209125, 47.924952888358334]\n",
      "[58.28794238456919, 49.913716702854636, 39.21808988197688, 38.05534284183711]\n"
     ]
    }
   ],
   "source": [
    "print(parent1)\n",
    "print(parent2)\n",
    "child1, child2 = crossover(parent1, parent2)\n",
    "print(child1)\n",
    "print(child2)\n",
    "print(child1[structure][0][Paramerters_S])\n",
    "print(child2[structure][0][Paramerters_S])"
   ]
  },
  {
   "cell_type": "code",
   "execution_count": 13,
   "metadata": {},
   "outputs": [],
   "source": [
    "def mutation_linguistic_term_choice(parent):\n",
    "    \n",
    "    for i in range(len(parent)):\n",
    "        if random.uniform(0, 1) < mutation_rate:\n",
    "            # offspring.append(parent[i] + random.uniform(-1, 1) * mutation_step)\n",
    "            parent[i] = random.choice(linguistic)   \n",
    "        else:\n",
    "            pass\n",
    "    return parent"
   ]
  },
  {
   "cell_type": "code",
   "execution_count": 14,
   "metadata": {},
   "outputs": [],
   "source": [
    "def mutation_S(parent):\n",
    "    offspring = []\n",
    "    for i in range(len(parent)):\n",
    "        if random.uniform(0, 1) < mutation_rate:\n",
    "            parent[i] = random.uniform(Max_S, Min_S)\n",
    "        else:\n",
    "            pass\n",
    "    return parent"
   ]
  },
  {
   "cell_type": "code",
   "execution_count": 15,
   "metadata": {},
   "outputs": [],
   "source": [
    "def mutation_M(parent):\n",
    "    for i in range(len(parent)):\n",
    "        if random.uniform(0, 1) < mutation_rate:\n",
    "            parent[i] = random.uniform(Max_M, Min_M)\n",
    "        else:\n",
    "            pass\n",
    "    return parent"
   ]
  },
  {
   "cell_type": "code",
   "execution_count": 16,
   "metadata": {},
   "outputs": [],
   "source": [
    "def mutation_fuzzy(parent):\n",
    "    \n",
    "    for i in range(len(parent)):\n",
    "        if random.uniform(0, 1) < mutation_rate:\n",
    "            parent[i] = random.randint(0, 4) \n",
    "        else:\n",
    "            pass\n",
    "    return parent\n"
   ]
  },
  {
   "cell_type": "code",
   "execution_count": 17,
   "metadata": {},
   "outputs": [],
   "source": [
    "def mutation_being_not_list_term_choice(parent):\n",
    "    for i in range(len(parent)):\n",
    "        if random.uniform(0, 1) < mutation_rate:\n",
    "            parent[i] = (parent[i] * -1) +1\n",
    "        else:\n",
    "            pass\n",
    "    return parent"
   ]
  },
  {
   "cell_type": "code",
   "execution_count": 18,
   "metadata": {},
   "outputs": [],
   "source": [
    "def Mutation(parent):\n",
    "    for i in range(num_gen):\n",
    "        parent[structure][i][linguistic_variable] = mutation_linguistic(parent[structure][i][linguistic_variable])\n",
    "        parent[structure][i][type_Fuzzy_Set] = mutation_fuzzy(parent[structure][i][type_Fuzzy_Set])\n",
    "        parent[structure][i][Paramerters_M] = mutation_M(parent[structure][i][Paramerters_M])\n",
    "        parent[structure][i][Paramerters_S] = mutation_S(parent[structure][i][Paramerters_S])\n",
    "    \n",
    "    parent[rule][being] = mutation_being_not_list_term_choice(parent[rule][being])\n",
    "    parent[rule][not_list] = mutation_being_not_list_term_choice(parent[rule][not_list])\n",
    "    parent[rule][term_choice] = mutation_fuzzy(parent[rule][term_choice])\n",
    "\n",
    "    \n",
    "    return parent"
   ]
  },
  {
   "cell_type": "code",
   "execution_count": 21,
   "metadata": {},
   "outputs": [
    {
     "name": "stdout",
     "output_type": "stream",
     "text": [
      "{'structure': [{'linguistic variable': ['high', 'high', 'medium', 'medium', 'high'], 'S': [47.924952888358334, 31.1117216190044, 58.362282831989084, 29.246888522218324, 3.4683991197102113], 'M': [2.261630016693708, -8.048687525057273, 5.336247067495371, 2.9725727849448162, -8.472468510998837], 'fuzzy set': [4, 1, 3, 4, 2]}, {'linguistic variable': ['very low', 'low', 'medium', 'very high', 'low'], 'S': [42.39419976066262, 55.224235205379685, 4.634748544168402, 13.568361975419421, 68.50416494976939], 'M': [-8.86852965157912, 2.6034693032158813, 1.7698794713699222, 5.219960991689735, -6.771996229201582], 'fuzzy set': [3, 3, 3, 1, 2]}, {'linguistic variable': ['high', 'low', 'medium', 'medium'], 'S': [13.579327617918882, 54.74093912188427, 44.11486342588053, 49.45365332383269], 'M': [-3.0625628776852984, -6.090171017627317, -10.02088552381539, 0.9419973610191672], 'fuzzy set': [1, 4, 2, 1]}, {'linguistic variable': ['low', 'very low', 'very low', 'high', 'very low'], 'S': [5.558366457991144, 62.61950583945485, 17.713405712990653, 60.782381682210854, 48.9293777862895], 'M': [-7.6763293786810864, 2.1561460586904087, 0.5913741198040761, -10.356210441617879, 3.421934534783487], 'fuzzy set': [3, 3, 3, 2, 4]}, {'linguistic variable': ['low', 'low', 'high', 'medium'], 'S': [67.09427827689879, 0.5959415885994135, 62.72742921538408, 5.6178537732310705], 'M': [-4.3219331867759765, -10.500455884463202, -1.6351413845536982, 0.9033033359045639], 'fuzzy set': [2, 2, 1, 4]}], 'rule': {'being': [0, 0, 1, 1, 0], 'not_list': [1, 0, 1, 0, 1], 'term_choice': ['low', 'very high', 'low', 'low', 'very high']}}\n"
     ]
    },
    {
     "ename": "NameError",
     "evalue": "name 'mutation_linguistic' is not defined",
     "output_type": "error",
     "traceback": [
      "\u001b[1;31m---------------------------------------------------------------------------\u001b[0m",
      "\u001b[1;31mNameError\u001b[0m                                 Traceback (most recent call last)",
      "Cell \u001b[1;32mIn[21], line 2\u001b[0m\n\u001b[0;32m      1\u001b[0m \u001b[39mprint\u001b[39m(parent1)\n\u001b[1;32m----> 2\u001b[0m \u001b[39mprint\u001b[39m(Mutation(parent1))\n",
      "Cell \u001b[1;32mIn[18], line 3\u001b[0m, in \u001b[0;36mMutation\u001b[1;34m(parent)\u001b[0m\n\u001b[0;32m      1\u001b[0m \u001b[39mdef\u001b[39;00m \u001b[39mMutation\u001b[39m(parent):\n\u001b[0;32m      2\u001b[0m     \u001b[39mfor\u001b[39;00m i \u001b[39min\u001b[39;00m \u001b[39mrange\u001b[39m(num_gen):\n\u001b[1;32m----> 3\u001b[0m         parent[structure][i][linguistic_variable] \u001b[39m=\u001b[39m mutation_linguistic(parent[structure][i][linguistic_variable])\n\u001b[0;32m      4\u001b[0m         parent[structure][i][type_Fuzzy_Set] \u001b[39m=\u001b[39m mutation_fuzzy(parent[structure][i][type_Fuzzy_Set])\n\u001b[0;32m      5\u001b[0m         parent[structure][i][Paramerters_M] \u001b[39m=\u001b[39m mutation_M(parent[structure][i][Paramerters_M])\n",
      "\u001b[1;31mNameError\u001b[0m: name 'mutation_linguistic' is not defined"
     ]
    }
   ],
   "source": [
    "print(parent1)\n",
    "print(Mutation(parent1))"
   ]
  },
  {
   "cell_type": "code",
   "execution_count": null,
   "metadata": {},
   "outputs": [],
   "source": [
    "def isosceles_triangular_fuzzy(x, m, s):\n",
    "    return np.max(np.min((x - m) / s, (m - x) / s), 0)\n",
    "def trapezoids_of_Malzawie_fuzzy(x, m, s):\n",
    "    return np.max(np.min((x - m) / s, 1), 0)\n",
    "def gaussian_fuzzy(x, m ,s):\n",
    "    return np.exp(-0.5 * ((x - m) / s) ** 2)\n",
    "def sigmoid_fuzzy(x, m ,s):\n",
    "    return 1 / (1 + np.exp((x - m) / s))\n",
    "# def Fc(R,numberOfrule):\n",
    "    \n",
    "    \n",
    "# def Fneg(Ruls,numberOfrule):\n",
    "#     for i in range(numberOfrule):\n",
    "#         pass\n",
    "\n",
    "def gR(xP, muA):\n",
    "    result = 1\n",
    "    for i in range(len(xP)):\n",
    "        result *= muA[i] * xP[i]\n",
    "    return result  \n",
    "\n",
    "def gC(LOFL_xP, LOFL_muA, numberOfrule):  #  nothing\n",
    "    result = 0\n",
    "    for i in range(len(LOFL_xP)):\n",
    "        result += gR(LOFL_xP[i], LOFL_muA[i])\n",
    "    return result\n",
    "\n",
    "\n",
    "def Fc(LOFL_xP, LOFL_muA, numberOfrule):  #\n",
    "    result = 0\n",
    "    for i in range(len(LOFL_xP)):\n",
    "        result += gR(LOFL_xP[i], LOFL_muA[i])\n",
    "    return result\n",
    "\n",
    "def Fneg(LOFL_xP, LOFL_xP, number_another_rule):   # r = number_another_rule\n",
    "    return (1/r) * (Fc(LOFL_xP, LOFL_muA, number_another_rule))"
   ]
  },
  {
   "cell_type": "code",
   "execution_count": null,
   "metadata": {},
   "outputs": [
    {
     "ename": "NameError",
     "evalue": "name 'isosceles_triangular_fuzzy' is not defined",
     "output_type": "error",
     "traceback": [
      "\u001b[1;31m---------------------------------------------------------------------------\u001b[0m",
      "\u001b[1;31mNameError\u001b[0m                                 Traceback (most recent call last)",
      "Cell \u001b[1;32mIn[1], line 2\u001b[0m\n\u001b[0;32m      1\u001b[0m feature_1_email_one \u001b[39m=\u001b[39m \u001b[39m0.2854707\u001b[39m \n\u001b[1;32m----> 2\u001b[0m Mu \u001b[39m=\u001b[39m isosceles_triangular_fuzzy(feature_1_email_one, \u001b[39m36.01744803643862\u001b[39m, \u001b[39m2.992160994520459\u001b[39m)\n\u001b[0;32m      3\u001b[0m Mu\n",
      "\u001b[1;31mNameError\u001b[0m: name 'isosceles_triangular_fuzzy' is not defined"
     ]
    }
   ],
   "source": [
    "feature_1_email_one = 0.2854707 \n",
    "Mu = isosceles_triangular_fuzzy(feature_1_email_one, 36.01744803643862, 2.992160994520459)\n",
    "Mu\n"
   ]
  }
 ],
 "metadata": {
  "kernelspec": {
   "display_name": "Python 3",
   "language": "python",
   "name": "python3"
  },
  "language_info": {
   "codemirror_mode": {
    "name": "ipython",
    "version": 3
   },
   "file_extension": ".py",
   "mimetype": "text/x-python",
   "name": "python",
   "nbconvert_exporter": "python",
   "pygments_lexer": "ipython3",
   "version": "3.10.11"
  },
  "orig_nbformat": 4
 },
 "nbformat": 4,
 "nbformat_minor": 2
}
