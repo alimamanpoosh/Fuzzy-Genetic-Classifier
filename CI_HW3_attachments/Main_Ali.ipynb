{
 "cells": [
  {
   "cell_type": "code",
   "execution_count": 132,
   "metadata": {},
   "outputs": [],
   "source": [
    "import random\n",
    "import matplotlib.pyplot as plt"
   ]
  },
  {
   "cell_type": "code",
   "execution_count": 131,
   "metadata": {},
   "outputs": [],
   "source": [
    "linguistic_variable = \"linguistic variable\"\n",
    "Paramerters_S = \"S\"\n",
    "Paramerters_M = \"M\"\n",
    "type_Fuzzy_Set = \"fuzzy set\"\n",
    "rule = \"rule\"   \n",
    "structure = 'structure'\n",
    "being = 'being'\n",
    "not_list = 'not_list'\n",
    "term_choice = 'term_choice'\n",
    "\n",
    "Max_S = 70   # 2 * 35   # calcualte the database\n",
    "Min_S = 0\n",
    "Max_M = 7    # 2*5\n",
    "Min_M = -11  # 2*-5\n",
    "\n",
    "num_gen = 5\n",
    "linguistic = [\"very low\", \"low\", \"medium\", \"high\", \"very high\"]\n",
    "\n",
    "mutation_rate = 0.1"
   ]
  },
  {
   "cell_type": "code",
   "execution_count": 133,
   "metadata": {},
   "outputs": [],
   "source": [
    "def create_chromosomes(num_chromosomes):\n",
    "    chromosomes = []\n",
    "    \n",
    "    for i in range(num_chromosomes):\n",
    "        chro = dict()\n",
    "        chro[structure] = []\n",
    "        for _ in range(num_gen):\n",
    "            gen = dict()\n",
    "            num_feature = random.randint(3, 5)\n",
    "            gen[linguistic_variable] = [random.choice(linguistic) for i in range(num_feature)]\n",
    "            gen[Paramerters_S] = [random.uniform(Min_S, Max_S) for i in range(num_feature)]\n",
    "            gen[Paramerters_M] = [random.uniform(Min_M, Max_M) for i in range(num_feature)]\n",
    "            gen[type_Fuzzy_Set] = [random.randint(1, 4) for i in range(num_feature)]\n",
    "            chro[structure].append(gen)\n",
    "        \n",
    "        gen_rule = dict()\n",
    "        gen_rule[being] = [random.choice([0, 1]) for i in range(num_gen)]     # 1 ==> be   0 ==> not be\n",
    "        gen_rule[not_list] = [random.choice([0, 1]) for i in range(num_gen)]  # 1 ==> NOT   0 == self\n",
    "        gen_rule[term_choice] = [random.choice(linguistic) for i in range(num_gen)]   # which term?\n",
    "        \n",
    "        chro[rule] = gen_rule  \n",
    "\n",
    "        chromosomes.append(chro)\n",
    "        \n",
    "        \n",
    "    return chromosomes\n",
    "            \n",
    "    "
   ]
  },
  {
   "cell_type": "code",
   "execution_count": 134,
   "metadata": {},
   "outputs": [],
   "source": [
    "# This function creates a list of chromosomes.\n",
    "def create_chromosomes2(num_chromosomes):\n",
    "    # Initialize an empty list to store the chromosomes.\n",
    "    chromosomes = []\n",
    "    \n",
    "    # For each chromosome:\n",
    "    for i in range(num_chromosomes):\n",
    "        # Initialize an empty dictionary to store this chromosome's genetic material.\n",
    "        chro = dict()\n",
    "        chro[structure] = []\n",
    "        # For each genetic element (gene) in the chromosome:\n",
    "        for _ in range(num_gen):\n",
    "            # Initialize an empty dictionary to store this gene's features (linguistic variable, parameter S, parameter M, and type of fuzzy set).\n",
    "            gen = dict()\n",
    "            # Generate a random number between 3 and 5 to determine the number of linguistic variables in this feature.\n",
    "            num_feature = random.randint(3, 5)\n",
    "            # For each linguistic variable in this feature, randomly choose one from the set of possible linguistic variables and add it to the list of linguistic variables in this feature.\n",
    "            gen[linguistic_variable] = [random.choice(linguistic) for i in range(num_feature)]\n",
    "            # For each parameter S in this feature, randomly generate a floating-point number between Min_S and Max_S and add it to the list of S parameters in this feature.\n",
    "            gen[Paramerters_S] = [random.uniform(Min_S, Max_S) for i in range(num_feature)]\n",
    "            # For each parameter M in this feature, randomly generate a floating-point number between Min_M and Max_M and add it to the list of M parameters in this feature.\n",
    "            gen[Paramerters_M] = [random.uniform(Min_M, Max_M) for i in range(num_feature)]\n",
    "            # For each type of fuzzy set in this feature, randomly generate an integer between 1 and 4 and add it to the list of fuzzy set types in this feature.\n",
    "            gen[type_Fuzzy_Set] = [random.randint(1, 4) for i in range(num_feature)]\n",
    "            # Add the current gene (with its features) to this chromosome.\n",
    "            chro[structure].append(gen)\n",
    "        \n",
    "        # Initialize an empty dictionary to store the rule for this chromosome's genetic material.\n",
    "        gen_rule = dict()\n",
    "        # For each genetic element (gene) in the chromosome:\n",
    "        gen_rule[being] = [random.choice([0, 1]) for i in range(num_gen)]     # 1 ==> be   0 ==> not be\n",
    "        gen_rule[not_list] = [random.choice([0, 1]) for i in range(num_gen)]  # 1 ==> NOT   0 ==> self\n",
    "        gen_rule[term_choice] = [random.choice(linguistic) for i in range(num_gen)]   # which term?\n",
    "        # Add the rule to this chromosome.\n",
    "        chro[rule] = gen_rule  \n",
    "        # Add this chromosome (with its genetic material and rule) to the list of chromosomes.\n",
    "        chromosomes.append(chro)\n",
    "        \n",
    "    # Return the list of chromosomes.\n",
    "    return chromosomes\n"
   ]
  },
  {
   "cell_type": "code",
   "execution_count": 135,
   "metadata": {},
   "outputs": [
    {
     "name": "stdout",
     "output_type": "stream",
     "text": [
      "['high', 'high', 'low', 'medium', 'medium']\n",
      "['low', 'high', 'very low', 'very low', 'high']\n",
      "[5.125956920194995, 36.01744803643862, 50.19121130532893, 10.786173877957424, 10.81039180740692]\n",
      "[51.912833245760325, 50.63543523141557, 24.456117392676802]\n"
     ]
    }
   ],
   "source": [
    "chro = create_chromosomes2(2)\n",
    "# print(chro)\n",
    "# print(chro[0][structure][0][linguistic_variable])\n",
    "# print(chro[1][structure][0])\n",
    "\n",
    "parent1 = chro[0]\n",
    "parent2 = chro[1]\n",
    "print(parent1[structure][0][linguistic_variable])\n",
    "print(parent2[rule][term_choice])\n",
    "print(chro[0][structure][0][Paramerters_S])\n",
    "print(chro[0][structure][1][Paramerters_S])\n",
    "\n",
    "# print(parent1)\n",
    "# print(parent2)\n",
    "# parent1_linguistic = chro[0][structure][0][linguistic_variable]\n",
    "# parent2_linguistic = chro[1][structure][0][linguistic_variable]\n",
    "\n",
    "# parent1_S = chro[0][structure][0][Paramerters_S]\n",
    "# parent2_S = chro[1][structure][0][Paramerters_S]\n",
    "\n",
    "# parent1_M = chro[0][structure][0][Paramerters_M]\n",
    "# parent2_M = chro[1][structure][0][Paramerters_M]\n",
    "\n",
    "# parent1_fuzzy = chro[0][structure][0][type_Fuzzy_Set]\n",
    "# parent2_fuzzy = chro[1][structure][0][type_Fuzzy_Set]\n",
    "\n",
    "# parent1_bein = chro[0][rule][being]\n",
    "# parent2_bein = chro[1][rule][being]\n",
    "\n",
    "# parent1_not_list = chro[0][rule][not_list]\n",
    "# parent2_not_list = chro[1][rule][not_list]\n",
    "\n",
    "# parent1_term_choice = chro[0][rule][term_choice]\n",
    "# parent2_term_choice = chro[1][rule][term_choice]\n"
   ]
  },
  {
   "cell_type": "code",
   "execution_count": null,
   "metadata": {},
   "outputs": [],
   "source": []
  },
  {
   "cell_type": "code",
   "execution_count": 71,
   "metadata": {},
   "outputs": [
    {
     "ename": "IndentationError",
     "evalue": "expected an indented block after 'for' statement on line 16 (2284234988.py, line 17)",
     "output_type": "error",
     "traceback": [
      "\u001b[1;36m  Cell \u001b[1;32mIn[71], line 17\u001b[1;36m\u001b[0m\n\u001b[1;33m    offspring1.append(parent1[temp[i]])\u001b[0m\n\u001b[1;37m    ^\u001b[0m\n\u001b[1;31mIndentationError\u001b[0m\u001b[1;31m:\u001b[0m expected an indented block after 'for' statement on line 16\n"
     ]
    }
   ],
   "source": [
    "\n",
    "def crossover_continuous2(parent1, parent2):    #پیوسته\n",
    "    alpha = 0.25\n",
    "    if len(parent1) > len(parent2):\n",
    "        indexes = [random.randint(0, 4) % 5 for i in range(len(parent2))]\n",
    "        for i in range(len(parent2)):\n",
    "            if parent2[i] > parent1[indexes[i]]:\n",
    "                distance = parent2[i] - parent1[indexes[i]]\n",
    "                offspring1.append(parent1[indexes[i]] + alpha * distance)\n",
    "                offspring2.append(parent2[i] - alpha * distance)\n",
    "            else:\n",
    "                distance = parent1[indexes[i]] - parent2[i]\n",
    "                offspring1.append(parent2[i] + alpha * distance)\n",
    "                offspring2.append(parent1[indexes[i]] - alpha * distance)\n",
    "                \n",
    "        temp = [item for item in [0, 1, 2 , 3, 4] if item not in indexes]\n",
    "        for i in range(len(temp)):\n",
    "        offspring1.append(parent1[temp[i]])\n",
    "        \n",
    "    else:\n",
    "        indexes = [random.randint(0, 4) % 5 for i in range(len(parent1))]\n",
    "        for i in range(len(parent1)):\n",
    "            if parent1[i] > parent2[indexes[i]]:\n",
    "                distance = parent1[i] - parent2[indexes[i]]\n",
    "                offspring1.append(parent2[indexes[i]] + alpha * distance)\n",
    "                offspring2.append(parent1[i] - alpha * distance)\n",
    "            else:\n",
    "                distance = parent2[indexes[i]] - parent1[i]\n",
    "                offspring1.append(parent1[i] + alpha * distance)\n",
    "                offspring2.append(parent2[indexes[i]] - alpha * distance)\n",
    "                \n",
    "        temp = [item for item in [0, 1, 2 , 3, 4] if item not in indexes]\n",
    "        for i in range(len(temp)):\n",
    "        offspring2.append(parent2[temp[i]])\n",
    "    \n",
    "    return offspring1, offspring2"
   ]
  },
  {
   "cell_type": "code",
   "execution_count": 136,
   "metadata": {},
   "outputs": [],
   "source": [
    "# This function takes in two parents (sequences) and creates two offsprings by performing a continuous crossover.\n",
    "def crossover_continuous(parent1, parent2):    \n",
    "    # Set the alpha value for the crossover.\n",
    "    alpha = 0.25\n",
    "    offspring1 = []\n",
    "    offspring2 = []\n",
    "    # If the first sequence is longer than the second one:\n",
    "    if len(parent1) > len(parent2):\n",
    "        # Generate a list of random indexes for the shorter sequence.\n",
    "        indexes = random.sample(range(len(parent1)), len(parent2))\n",
    "        # For each index in the shorter parent: if the corresponding element in the longer parent is greater, perform a crossover calculation using alpha and add the results to offspring1 and offspring2. Otherwise, perform the calculation using the reverse order and add the results to offspring1 and offspring2.\n",
    "        for i in range(len(parent2)):\n",
    "            if parent2[i] > parent1[indexes[i]]:\n",
    "                distance = parent2[i] - parent1[indexes[i]]\n",
    "                offspring1.append(parent1[indexes[i]] + alpha * distance)\n",
    "                offspring2.append(parent2[i] - alpha * distance)\n",
    "            else:\n",
    "                distance = parent1[indexes[i]] - parent2[i]\n",
    "                offspring1.append(parent2[i] + alpha * distance)\n",
    "                offspring2.append(parent1[indexes[i]] - alpha * distance)\n",
    "                \n",
    "        # Add the remaining elements of the longer parent to the first offspring.     \n",
    "        temp = [item for item in [_ for _ in range(len(parent2))] if item not in indexes]\n",
    "        for i in range(len(temp)):\n",
    "            offspring1.append(parent1[temp[i]])\n",
    "        \n",
    "    # If the second sequence is longer than or the same length as the first one:\n",
    "    else:\n",
    "        # Generate a list of random indexes for the shorter sequence.\n",
    "        indexes = random.sample(range(len(parent2)), len(parent1))\n",
    "        # For each index in the shorter parent: if the corresponding element in the longer parent is greater, perform a crossover calculation using alpha and add the results to offspring1 and offspring2. Otherwise, perform the calculation using the reverse order and add the results to offspring1 and offspring2.\n",
    "        for i in range(len(parent1)):\n",
    "            if parent1[i] > parent2[indexes[i]]:\n",
    "                distance = parent1[i] - parent2[indexes[i]]\n",
    "                offspring1.append(parent2[indexes[i]] + alpha * distance)\n",
    "                offspring2.append(parent1[i] - alpha * distance)\n",
    "            else:\n",
    "                distance = parent2[indexes[i]] - parent1[i]\n",
    "                offspring1.append(parent1[i] + alpha * distance)\n",
    "                offspring2.append(parent2[indexes[i]] - alpha * distance)\n",
    "                \n",
    "        # Add the remaining elements of the longer parent to the second offspring. \n",
    "        temp = [item for item in [_ for _ in range(len(parent2))] if item not in indexes]\n",
    "        for i in range(len(temp)):\n",
    "            offspring2.append(parent2[temp[i]])\n",
    "    \n",
    "    # Return the two new offspring.\n",
    "    return offspring1, offspring2\n"
   ]
  },
  {
   "cell_type": "code",
   "execution_count": 137,
   "metadata": {},
   "outputs": [],
   "source": [
    "def crossover_discrete2(parent1, parent2):   # گسسته\n",
    "    #indexes = []\n",
    "    if len(parent1) > len(parent2):\n",
    "        indexes = [random.randint(0,4) % len(parent2) for i in range(len(parent2))]\n",
    "        for i in range(len(parent1)):\n",
    "            if i in indexes:\n",
    "                offspring2.append(parent1[i])\n",
    "            else:\n",
    "                offspring1.append(parent1[i])\n",
    "        offspring1.extend(parent2)     \n",
    "    else:\n",
    "        indexes = [random.randint(0,4) % len(parent1) for i in range(len(parent1))]\n",
    "        for i in range(len(parent2)):\n",
    "            if i in indexes:\n",
    "                offspring1.append(parent2[i])\n",
    "            else:\n",
    "                offspring2.append(parent2[i])\n",
    "        offspring2.extend(parent1)  \n",
    "    \n",
    "    #print(indexes)\n",
    "    return offspring1, offspring2 \n",
    "        "
   ]
  },
  {
   "cell_type": "code",
   "execution_count": 138,
   "metadata": {},
   "outputs": [],
   "source": [
    "# This function takes in two parents (sequences) and creates two offsprings by performing a discrete crossover.\n",
    "def crossover_discrete(parent1, parent2):   \n",
    "    offspring1 = []\n",
    "    offspring2 = []\n",
    "    # If the first sequence is longer than the second one:\n",
    "    if len(parent1) > len(parent2):\n",
    "        # Generate a list of random indexes for the shorter sequence.\n",
    "        indexes = random.sample(range(len(parent1)), len(parent2))\n",
    "        # For each index in parent1: if it's in indexes, add the corresponding element to offspring2. Otherwise, add it to offspring1. \n",
    "        for i in range(len(parent1)):\n",
    "            if i in indexes:\n",
    "                offspring2.append(parent1[i])\n",
    "            else:\n",
    "                offspring1.append(parent1[i])\n",
    "        # Add all of parent2 to offspring1.\n",
    "        offspring1.extend(parent2)     \n",
    "    # If the second sequence is longer than or the same length as the first one:\n",
    "    else:\n",
    "        # Generate a list of random indexes for the shorter sequence.\n",
    "        indexes = random.sample(range(len(parent2)), len(parent1))\n",
    "        # For each index in parent2: if it's in indexes, add the corresponding element to offspring1. Otherwise, add it to offspring2. \n",
    "        for i in range(len(parent2)):\n",
    "            if i in indexes:\n",
    "                offspring1.append(parent2[i])\n",
    "            else:\n",
    "                offspring2.append(parent2[i])\n",
    "        # Add all of parent1 to offspring2.\n",
    "        offspring2.extend(parent1)\n",
    "    \n",
    "    # Return the two new offspring.\n",
    "    return offspring1, offspring2 \n"
   ]
  },
  {
   "cell_type": "code",
   "execution_count": 139,
   "metadata": {},
   "outputs": [],
   "source": [
    "def crossover(parent1, parent2):\n",
    "    structure1 = [dict() for i in range(num_gen)]\n",
    "    structure2 = [dict() for i in range(num_gen)]\n",
    "    \n",
    "    for i in range(num_gen):\n",
    "        structure1[i][linguistic_variable], structure2[i][linguistic_variable] = crossover_discrete(parent1[structure][i][linguistic_variable], parent2[structure][i][linguistic_variable])\n",
    "        structure1[i][type_Fuzzy_Set], structure2[i][type_Fuzzy_Set] = crossover_discrete(parent1[structure][i][type_Fuzzy_Set], parent2[structure][i][type_Fuzzy_Set])\n",
    "        structure1[i][Paramerters_M], structure2[i][Paramerters_M] = crossover_continuous(parent1[structure][i][Paramerters_M], parent2[structure][i][Paramerters_M])\n",
    "        structure1[i][Paramerters_S], structure2[i][Paramerters_S] = crossover_continuous(parent1[structure][i][Paramerters_S], parent2[structure][i][Paramerters_S])\n",
    "    \n",
    "    \n",
    "    rule1 = dict()\n",
    "    rule2 = dict()\n",
    "    \n",
    "    rule1[being], rule2[being] = crossover_discrete(parent1[rule][being], parent2[rule][being])\n",
    "    rule1[not_list], rule2[not_list] = crossover_discrete(parent1[rule][not_list], parent2[rule][not_list])\n",
    "    rule1[term_choice], rule2[term_choice] = crossover_discrete(parent1[rule][term_choice], parent2[rule][term_choice])\n",
    "    \n",
    "    offspring1 = dict()\n",
    "    offspring1[structure] = structure1\n",
    "    offspring1[rule] = rule1\n",
    "    \n",
    "    offspring2 = dict()\n",
    "    offspring2[structure] = structure2\n",
    "    offspring2[rule] = rule2\n",
    "    \n",
    "    return offspring1, offspring2\n",
    "\n",
    "    "
   ]
  },
  {
   "cell_type": "code",
   "execution_count": 140,
   "metadata": {},
   "outputs": [
    {
     "data": {
      "text/plain": [
       "5"
      ]
     },
     "execution_count": 140,
     "metadata": {},
     "output_type": "execute_result"
    }
   ],
   "source": [
    "len(parent2[structure])"
   ]
  },
  {
   "cell_type": "code",
   "execution_count": 141,
   "metadata": {},
   "outputs": [
    {
     "name": "stdout",
     "output_type": "stream",
     "text": [
      "{'structure': [{'linguistic variable': ['high', 'high', 'low', 'medium', 'medium'], 'S': [5.125956920194995, 36.01744803643862, 50.19121130532893, 10.786173877957424, 10.81039180740692], 'M': [-5.325879400746209, -2.817949042419972, 1.658334993474993, -4.086824234983548, -0.38492081955254775], 'fuzzy set': [2, 3, 3, 4, 4]}, {'linguistic variable': ['medium', 'very low', 'low'], 'S': [51.912833245760325, 50.63543523141557, 24.456117392676802], 'M': [5.889487781840792, 3.989325680232204, -6.39765483222899], 'fuzzy set': [3, 4, 1]}, {'linguistic variable': ['medium', 'very low', 'low'], 'S': [24.755131106513932, 15.864067017568036, 0.9722547921961144], 'M': [6.288167907176248, -10.033541119110401, 5.150067218781285], 'fuzzy set': [3, 1, 2]}, {'linguistic variable': ['low', 'high', 'medium', 'medium', 'very low'], 'S': [68.38527587823174, 52.23046550628475, 39.070998692196795, 48.82785224147958, 67.29786338986713], 'M': [-5.498826341649226, -2.0835206617537665, 5.113626380822563, -3.3828455456237085, -9.703650944851757], 'fuzzy set': [4, 4, 1, 1, 3]}, {'linguistic variable': ['medium', 'very low', 'high', 'very high'], 'S': [61.39718973022919, 59.792624501114574, 66.42317732141697, 26.793910051939854], 'M': [-0.17496588993876117, 1.6021583956413288, -10.992625865296437, -3.4509955463278006], 'fuzzy set': [4, 1, 4, 2]}], 'rule': {'being': [0, 0, 0, 0, 1], 'not_list': [0, 1, 1, 1, 1], 'term_choice': ['very high', 'medium', 'very low', 'medium', 'high']}}\n",
      "{'structure': [{'linguistic variable': ['very low', 'medium', 'high'], 'S': [20.126395300778288, 53.10894514719301, 18.619349884480375], 'M': [-0.1941994542666201, -9.924402029536687, -3.370219795384344], 'fuzzy set': [2, 2, 1]}, {'linguistic variable': ['medium', 'medium', 'very high', 'medium', 'very low'], 'S': [69.35747967447584, 59.5296869107454, 59.57873797329312, 67.37685368629627, 31.68569749096472], 'M': [-0.15257930826144062, 3.942245437012277, -0.09650473972864049, -3.50357762889959, -0.6801991131200431], 'fuzzy set': [1, 1, 4, 1, 2]}, {'linguistic variable': ['medium', 'high', 'low', 'low'], 'S': [19.28513720194883, 48.18354628564933, 20.69191654570264, 2.870569050860553], 'M': [-6.406366063128182, 1.3318174342995412, 6.333213467197673, 1.935921932710455], 'fuzzy set': [4, 3, 2, 2]}, {'linguistic variable': ['low', 'medium', 'high', 'very high'], 'S': [23.14025554534373, 34.10290305055319, 3.2127128804473615, 6.799370998702935], 'M': [-2.3632643768068125, 2.7866140047162684, -10.009950743739802, 5.03266702790453], 'fuzzy set': [1, 3, 1, 4]}, {'linguistic variable': ['medium', 'medium', 'very high', 'medium'], 'S': [28.162223571551408, 38.95454748619836, 3.4584067191501444, 21.069566453711985], 'M': [1.733121898815316, 3.847906917634589, 6.188055491444924, -0.8788844203725237], 'fuzzy set': [2, 4, 1, 3]}], 'rule': {'being': [1, 0, 1, 0, 1], 'not_list': [1, 0, 0, 1, 1], 'term_choice': ['low', 'high', 'very low', 'very low', 'high']}}\n",
      "{'structure': [{'linguistic variable': ['high', 'medium', 'very low', 'medium', 'high'], 'fuzzy set': [3, 4, 2, 2, 1], 'M': [0.26893415766878315, -7.539531727040652, -4.836964499405743, -2.817949042419972], 'S': [27.642599301915947, 40.29032231412722, 12.74446787958816, 5.125956920194995]}, {'linguistic variable': ['medium', 'very high', 'medium'], 'fuzzy set': [1, 4, 1], 'M': [0.9622226106201657, -1.6303518016166416, -3.8126797649186734], 'S': [36.74248142966362, 52.85899815124803, 35.68145796312656]}, {'linguistic variable': ['medium', 'low', 'low'], 'fuzzy set': [4, 3, 2], 'M': [3.0239834263269034, -7.192201480757916, 5.445853780885382], 'S': [21.707720185905462, 6.118943542537424, 12.775077665559419]}, {'linguistic variable': ['very low', 'low', 'medium', 'high', 'very high'], 'fuzzy set': [3, 1, 3, 1, 4], 'M': [-7.868554302840521, -3.427466255057852, -8.028343223243294, 5.052906866134038, -3.3828455456237085], 'S': [30.412808035578987, 42.401643135381676, 14.616497720705416, 14.8672779220764, 68.38527587823174]}, {'linguistic variable': ['medium', 'medium', 'very high', 'medium'], 'fuzzy set': [2, 4, 1, 3], 'M': [1.4157894554071602, 2.163595526139644, -7.8111889242684995, -2.807967764838981], 'S': [31.151472272841286, 17.54196116464125, 45.82170494500301, 27.13598843184274]}], 'rule': {'being': [1, 0, 1, 0, 1], 'not_list': [1, 0, 0, 1, 1], 'term_choice': ['low', 'high', 'very low', 'very low', 'high']}}\n",
      "{'structure': [{'linguistic variable': ['high', 'low', 'medium'], 'fuzzy set': [2, 3, 4], 'M': [1.1952013815395897, -2.7697911220485825, -3.8591346967248104], 'S': [42.67500730419127, 48.83607086950441, 16.661055882849638]}, {'linguistic variable': ['medium', 'very low', 'medium', 'very low', 'low'], 'fuzzy set': [1, 2, 3, 4, 1], 'M': [4.247066058100583, 2.1160998529492554, 1.3572703697019604, -0.15257930826144062, -0.09650473972864049], 'S': [46.856049307061426, 57.30612399091294, 58.13213910402608, 59.57873797329312, 67.37685368629627]}, {'linguistic variable': ['high', 'medium', 'very low', 'low'], 'fuzzy set': [2, 3, 1, 2], 'M': [5.2001064135598, -1.5095222040529443, 6.037426905093576, -6.406366063128182], 'S': [23.73932746631111, 12.615692525891166, 36.380723412286024, 19.28513720194883]}, {'linguistic variable': ['low', 'high', 'medium', 'medium'], 'fuzzy set': [4, 4, 1, 1], 'M': [-4.198361018818049, 0.7152539181248949, -4.065128182250275, 5.093386542593055], 'S': [44.957913016049496, 58.999123305038644, 37.42406740122153, 31.00309176882333]}, {'linguistic variable': ['medium', 'very low', 'high', 'very high'], 'fuzzy set': [4, 1, 4, 2], 'M': [4.597300146099003, 3.286469787136274, -1.4483150422126223, -1.521912201861343], 'S': [51.31528391109988, 45.70907005562347, 59.55601986261232, 27.82014519164852]}], 'rule': {'being': [0, 0, 0, 0, 1], 'not_list': [0, 1, 1, 1, 1], 'term_choice': ['very high', 'medium', 'very low', 'medium', 'high']}}\n",
      "[27.642599301915947, 40.29032231412722, 12.74446787958816, 5.125956920194995]\n",
      "[42.67500730419127, 48.83607086950441, 16.661055882849638]\n"
     ]
    }
   ],
   "source": [
    "print(parent1)\n",
    "print(parent2)\n",
    "child1, child2 = crossover(parent1, parent2)\n",
    "print(child1)\n",
    "print(child2)\n",
    "print(child1[structure][0][Paramerters_S])\n",
    "print(child2[structure][0][Paramerters_S])"
   ]
  },
  {
   "cell_type": "code",
   "execution_count": 142,
   "metadata": {},
   "outputs": [],
   "source": [
    "def mutation_linguistic_term_choice(parent):\n",
    "    \n",
    "    for i in range(len(parent)):\n",
    "        if random.uniform(0, 1) < mutation_rate:\n",
    "            # offspring.append(parent[i] + random.uniform(-1, 1) * mutation_step)\n",
    "            parent[i] = random.choice(linguistic)   \n",
    "        else:\n",
    "            pass\n",
    "    return parent"
   ]
  },
  {
   "cell_type": "code",
   "execution_count": 143,
   "metadata": {},
   "outputs": [],
   "source": [
    "def mutation_S(parent):\n",
    "    offspring = []\n",
    "    for i in range(len(parent)):\n",
    "        if random.uniform(0, 1) < mutation_rate:\n",
    "            parent[i] = random.uniform(Max_S, Min_S)\n",
    "        else:\n",
    "            pass\n",
    "    return parent"
   ]
  },
  {
   "cell_type": "code",
   "execution_count": 144,
   "metadata": {},
   "outputs": [],
   "source": [
    "def mutation_M(parent):\n",
    "    for i in range(len(parent)):\n",
    "        if random.uniform(0, 1) < mutation_rate:\n",
    "            parent[i] = random.uniform(Max_M, Min_M)\n",
    "        else:\n",
    "            pass\n",
    "    return parent"
   ]
  },
  {
   "cell_type": "code",
   "execution_count": 146,
   "metadata": {},
   "outputs": [],
   "source": [
    "def mutation_fuzzy(parent):\n",
    "    \n",
    "    for i in range(len(parent)):\n",
    "        if random.uniform(0, 1) < mutation_rate:\n",
    "            parent[i] = random.randint(0, 4) \n",
    "        else:\n",
    "            pass\n",
    "    return parent\n"
   ]
  },
  {
   "cell_type": "code",
   "execution_count": 147,
   "metadata": {},
   "outputs": [],
   "source": [
    "def mutation_being_not_list_term_choice(parent):\n",
    "    for i in range(len(parent)):\n",
    "        if random.uniform(0, 1) < mutation_rate:\n",
    "            parent[i] = (parent[i] * -1) +1\n",
    "        else:\n",
    "            pass\n",
    "    return parent"
   ]
  },
  {
   "cell_type": "code",
   "execution_count": 151,
   "metadata": {},
   "outputs": [],
   "source": [
    "def Mutation(parent):\n",
    "    for i in range(num_gen):\n",
    "        parent[structure][i][linguistic_variable] = mutation_linguistic(parent[structure][i][linguistic_variable])\n",
    "        parent[structure][i][type_Fuzzy_Set] = mutation_fuzzy(parent[structure][i][type_Fuzzy_Set])\n",
    "        parent[structure][i][Paramerters_M] = mutation_M(parent[structure][i][Paramerters_M])\n",
    "        parent[structure][i][Paramerters_S] = mutation_S(parent[structure][i][Paramerters_S])\n",
    "    \n",
    "    parent[rule][being] = mutation_being_not_list_term_choice(parent[rule][being])\n",
    "    parent[rule][not_list] = mutation_being_not_list_term_choice(parent[rule][not_list])\n",
    "    parent[rule][term_choice] = mutation_fuzzy(parent[rule][term_choice])\n",
    "\n",
    "    \n",
    "    return parent"
   ]
  },
  {
   "cell_type": "code",
   "execution_count": 153,
   "metadata": {},
   "outputs": [
    {
     "name": "stdout",
     "output_type": "stream",
     "text": [
      "{'structure': [{'linguistic variable': ['high', 'low', 'medium', 'medium', 'medium'], 'S': [45.91274416454032, 36.01744803643862, 50.19121130532893, 10.786173877957424, 40.43125743675335], 'M': [-5.325879400746209, 2.992160994520459, 1.658334993474993, -4.086824234983548, -0.38492081955254775], 'fuzzy set': [2, 4, 2, 4, 3]}, {'linguistic variable': ['medium', 'very low', 'low'], 'S': [7.79249174466193, 50.63543523141557, 24.456117392676802], 'M': [5.889487781840792, -1.7803369853221067, -6.39765483222899], 'fuzzy set': [3, 4, 1]}, {'linguistic variable': ['medium', 'very low', 'low'], 'S': [24.755131106513932, 15.864067017568036, 0.9722547921961144], 'M': [4.794884490952947, -10.033541119110401, 5.150067218781285], 'fuzzy set': [3, 4, 2]}, {'linguistic variable': ['low', 'high', 'medium', 'medium', 'very low'], 'S': [68.38527587823174, 52.23046550628475, 39.070998692196795, 48.82785224147958, 67.29786338986713], 'M': [-5.498826341649226, -2.0835206617537665, 5.113626380822563, 1.6610213790637829, -9.703650944851757], 'fuzzy set': [4, 4, 2, 4, 3]}, {'linguistic variable': ['medium', 'very low', 'high', 'very high'], 'S': [49.05836122790258, 59.792624501114574, 64.29739724851308, 26.793910051939854], 'M': [-0.17496588993876117, 1.6021583956413288, -10.992625865296437, -3.4509955463278006], 'fuzzy set': [2, 4, 4, 2]}], 'rule': {'being': [0, 0, 1, 0, 0], 'not_list': [1, 1, 0, 1, 1], 'term_choice': ['very high', 'medium', 'very low', 'medium', 'high']}}\n",
      "{'structure': [{'linguistic variable': ['high', 'low', 'medium', 'medium', 'medium'], 'S': [45.91274416454032, 36.01744803643862, 50.19121130532893, 10.786173877957424, 40.43125743675335], 'M': [-5.325879400746209, 2.992160994520459, 1.658334993474993, -4.086824234983548, -0.38492081955254775], 'fuzzy set': [2, 4, 2, 4, 3]}, {'linguistic variable': ['medium', 'very low', 'low'], 'S': [7.79249174466193, 50.63543523141557, 24.456117392676802], 'M': [5.889487781840792, -1.7803369853221067, -6.39765483222899], 'fuzzy set': [3, 4, 1]}, {'linguistic variable': ['medium', 'very low', 'low'], 'S': [28.969366853074234, 15.864067017568036, 0.9722547921961144], 'M': [4.794884490952947, -10.033541119110401, 5.150067218781285], 'fuzzy set': [2, 4, 1]}, {'linguistic variable': ['very high', 'high', 'medium', 'medium', 'very low'], 'S': [68.38527587823174, 52.23046550628475, 39.070998692196795, 48.82785224147958, 67.29786338986713], 'M': [2.079488430948704, -2.0835206617537665, 5.113626380822563, 1.6610213790637829, -9.703650944851757], 'fuzzy set': [4, 1, 2, 4, 3]}, {'linguistic variable': ['medium', 'very low', 'high', 'very high'], 'S': [49.05836122790258, 59.792624501114574, 64.29739724851308, 26.793910051939854], 'M': [-0.17496588993876117, 1.6021583956413288, -10.992625865296437, -3.4509955463278006], 'fuzzy set': [2, 4, 4, 2]}], 'rule': {'being': [0, 0, 1, 0, 0], 'not_list': [1, 1, 0, 1, 1], 'term_choice': ['very high', 'medium', 'very low', 'medium', 'high']}}\n"
     ]
    }
   ],
   "source": [
    "print(parent1)\n",
    "print(Mutation(parent1))"
   ]
  },
  {
   "cell_type": "code",
   "execution_count": null,
   "metadata": {},
   "outputs": [],
   "source": [
    "def isosceles_triangular_fuzzy(x, m, s):\n",
    "    return np.max(np.min((x - m) / s, (m - x) / s), 0)\n",
    "def trapezoids_of_Malzawie_fuzzy(x, m, s):\n",
    "    return np.max(np.min((x - m) / s, 1), 0)\n",
    "def gaussian_fuzzy(x, m ,s):\n",
    "    return np.exp(-0.5 * ((x - m) / s) ** 2)\n",
    "def sigmoid_fuzzy(x, m ,s):\n",
    "    return 1 / (1 + np.exp((x - m) / s))\n",
    "# def Fc(R,numberOfrule):\n",
    "    \n",
    "    \n",
    "# def Fneg(Ruls,numberOfrule):\n",
    "#     for i in range(numberOfrule):\n",
    "#         pass\n",
    "\n",
    "def gR(xP, muA):\n",
    "    result = 1\n",
    "    for i in range(len(xP)):\n",
    "        result *= muA[i] * xP[i]\n",
    "    return result\n",
    "\n",
    "def gC(LOFL_xP, LOFL_muA, numberOfrule):  #  nothing\n",
    "    result = 0\n",
    "    for i in range(len(LOFL_xP)):\n",
    "        result += gR(LOFL_xP[i], LOFL_muA[i])\n",
    "    return result\n",
    "\n",
    "\n",
    "def Fc(LOFL_xP, LOFL_muA, numberOfrule):  #\n",
    "    result = 0\n",
    "    for i in range(len(LOFL_xP)):\n",
    "        result += gR(LOFL_xP[i], LOFL_muA[i])\n",
    "    return result\n",
    "\n",
    "def Fneg(LOFL_xP, LOFL_xP, number_another_rule):   # r = number_another_rule\n",
    "    return (1/r) * (Fc(LOFL_xP, LOFL_muA, number_another_rule))"
   ]
  }
 ],
 "metadata": {
  "kernelspec": {
   "display_name": "Python 3",
   "language": "python",
   "name": "python3"
  },
  "language_info": {
   "codemirror_mode": {
    "name": "ipython",
    "version": 3
   },
   "file_extension": ".py",
   "mimetype": "text/x-python",
   "name": "python",
   "nbconvert_exporter": "python",
   "pygments_lexer": "ipython3",
   "version": "3.10.11"
  },
  "orig_nbformat": 4
 },
 "nbformat": 4,
 "nbformat_minor": 2
}
