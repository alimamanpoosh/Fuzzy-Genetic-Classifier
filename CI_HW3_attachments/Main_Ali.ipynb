{
 "cells": [
  {
   "cell_type": "code",
   "execution_count": 4,
   "metadata": {},
   "outputs": [],
   "source": [
    "import random\n",
    "import matplotlib.pyplot as plt"
   ]
  },
  {
   "cell_type": "code",
   "execution_count": 5,
   "metadata": {},
   "outputs": [],
   "source": [
    "linguistic_variable = \"linguistic variable\"\n",
    "Paramerters_S = \"S\"\n",
    "Paramerters_M = \"M\"\n",
    "type_Fuzzy_Set = \"fuzzy set\"\n",
    "rule = \"rule\"   \n",
    "structure = 'structure'\n",
    "being = 'being'\n",
    "not_list = 'not_list'\n",
    "term_choice = 'term_choice'\n",
    "\n",
    "Max_S = 70   # 2 * 35   # calcualte the database\n",
    "Min_S = 0\n",
    "Max_M = 7    # 2*5\n",
    "Min_M = -11  # 2*-5\n",
    "\n",
    "num_gen = 5\n",
    "linguistic = [\"very low\", \"low\", \"medium\", \"high\", \"very high\"]"
   ]
  },
  {
   "cell_type": "code",
   "execution_count": 80,
   "metadata": {},
   "outputs": [],
   "source": [
    "def create_chromosomes(num_chromosomes):\n",
    "    chromosomes = []\n",
    "    \n",
    "    for i in range(num_chromosomes):\n",
    "        chro = dict()\n",
    "        for _ in range(num_gen):\n",
    "            gen = dict()\n",
    "            num_feature = random.randint(3, 5)\n",
    "            gen[linguistic_variable] = [random.choice(linguistic) for i in range(num_feature)]\n",
    "            gen[Paramerters_S] = [random.uniform(Min_S, Max_S) for i in range(num_feature)]\n",
    "            gen[Paramerters_M] = [random.uniform(Min_M, Max_M) for i in range(num_feature)]\n",
    "            gen[type_Fuzzy_Set] = [random.randint(1, 4) for i in range(num_feature)]\n",
    "            chro[structure].append(gen)\n",
    "        \n",
    "        gen_rule = dict()\n",
    "        gen_rule[being] = [random.choice([0, 1]]) for i in range(num_gen)]     # 1 ==> be   0 ==> not be\n",
    "        gen_rule[not_list] = [random.choice([0, 1]]) for i in range(num_gen)]  # 1 ==> NOT   0 == self\n",
    "        gen_rule[term_choice] = [random.choice(linguistic) for i in range(num_gen)]   # which term?\n",
    "        \n",
    "        chro[rule] = gen_rule  \n",
    "\n",
    "        chromosomes.append(chro)\n",
    "        \n",
    "        \n",
    "    return chromosomes\n",
    "            \n",
    "    "
   ]
  },
  {
   "cell_type": "code",
   "execution_count": 16,
   "metadata": {},
   "outputs": [],
   "source": [
    "# This function creates a list of chromosomes.\n",
    "def create_chromosomes2(num_chromosomes):\n",
    "    # Initialize an empty list to store the chromosomes.\n",
    "    chromosomes = []\n",
    "    \n",
    "    # For each chromosome:\n",
    "    for i in range(num_chromosomes):\n",
    "        # Initialize an empty dictionary to store this chromosome's genetic material.\n",
    "        chro = dict()\n",
    "        # For each genetic element (gene) in the chromosome:\n",
    "        for _ in range(num_gen):\n",
    "            # Initialize an empty dictionary to store this gene's features (linguistic variable, parameter S, parameter M, and type of fuzzy set).\n",
    "            gen = dict()\n",
    "            # Generate a random number between 3 and 5 to determine the number of linguistic variables in this feature.\n",
    "            num_feature = random.randint(3, 5)\n",
    "            # For each linguistic variable in this feature, randomly choose one from the set of possible linguistic variables and add it to the list of linguistic variables in this feature.\n",
    "            gen[linguistic_variable] = [random.choice(linguistic) for i in range(num_feature)]\n",
    "            # For each parameter S in this feature, randomly generate a floating-point number between Min_S and Max_S and add it to the list of S parameters in this feature.\n",
    "            gen[Paramerters_S] = [random.uniform(Min_S, Max_S) for i in range(num_feature)]\n",
    "            # For each parameter M in this feature, randomly generate a floating-point number between Min_M and Max_M and add it to the list of M parameters in this feature.\n",
    "            gen[Paramerters_M] = [random.uniform(Min_M, Max_M) for i in range(num_feature)]\n",
    "            # For each type of fuzzy set in this feature, randomly generate an integer between 1 and 4 and add it to the list of fuzzy set types in this feature.\n",
    "            gen[type_Fuzzy_Set] = [random.randint(1, 4) for i in range(num_feature)]\n",
    "            # Add the current gene (with its features) to this chromosome.\n",
    "            chro[structure] = []\n",
    "            chro[structure].append(gen)\n",
    "        \n",
    "        # Initialize an empty dictionary to store the rule for this chromosome's genetic material.\n",
    "        gen_rule = dict()\n",
    "        # For each genetic element (gene) in the chromosome:\n",
    "        gen_rule[being] = [random.choice([0, 1]) for i in range(num_gen)]     # 1 ==> be   0 ==> not be\n",
    "        gen_rule[not_list] = [random.choice([0, 1]) for i in range(num_gen)]  # 1 ==> NOT   0 ==> self\n",
    "        gen_rule[term_choice] = [random.choice(linguistic) for i in range(num_gen)]   # which term?\n",
    "        # Add the rule to this chromosome.\n",
    "        chro[rule] = gen_rule  \n",
    "        # Add this chromosome (with its genetic material and rule) to the list of chromosomes.\n",
    "        chromosomes.append(chro)\n",
    "        \n",
    "    # Return the list of chromosomes.\n",
    "    return chromosomes\n"
   ]
  },
  {
   "cell_type": "code",
   "execution_count": 29,
   "metadata": {},
   "outputs": [
    {
     "name": "stdout",
     "output_type": "stream",
     "text": [
      "[{'structure': [{'linguistic variable': ['very low', 'medium', 'medium', 'very low'], 'S': [29.872722123735443, 13.559918606088743, 33.93605445482008, 13.748835428263448], 'M': [-3.6107171118701995, 2.6888432891548, -8.211556599477387, -0.36983293736081535], 'fuzzy set': [1, 4, 3, 1]}], 'rule': {'being': [0, 1, 0, 1, 1], 'not_list': [0, 0, 0, 0, 0], 'term_choice': ['medium', 'low', 'very low', 'high', 'medium']}}, {'structure': [{'linguistic variable': ['high', 'high', 'high'], 'S': [42.69129934740153, 53.07585588663445, 6.939314842693412], 'M': [0.06384044933431987, -2.48589125067093, 5.145756108728843], 'fuzzy set': [2, 1, 2]}], 'rule': {'being': [1, 0, 0, 0, 1], 'not_list': [0, 1, 1, 1, 0], 'term_choice': ['high', 'high', 'medium', 'medium', 'medium']}}]\n",
      "['very low', 'medium', 'medium', 'very low']\n"
     ]
    },
    {
     "ename": "IndexError",
     "evalue": "list index out of range",
     "output_type": "error",
     "traceback": [
      "\u001b[1;31m---------------------------------------------------------------------------\u001b[0m",
      "\u001b[1;31mIndexError\u001b[0m                                Traceback (most recent call last)",
      "Cell \u001b[1;32mIn[29], line 4\u001b[0m\n\u001b[0;32m      2\u001b[0m \u001b[39mprint\u001b[39m(chro)\n\u001b[0;32m      3\u001b[0m \u001b[39mprint\u001b[39m(chro[\u001b[39m0\u001b[39m][structure][\u001b[39m0\u001b[39m][linguistic_variable])\n\u001b[1;32m----> 4\u001b[0m \u001b[39mprint\u001b[39m(chro[\u001b[39m0\u001b[39;49m][structure][\u001b[39m1\u001b[39;49m])\n\u001b[0;32m      6\u001b[0m \u001b[39mprint\u001b[39m(chro[\u001b[39m1\u001b[39m])\n\u001b[0;32m      7\u001b[0m \u001b[39m# parent1_linguistic = chro[0][structure][0][linguistic_variable]\u001b[39;00m\n\u001b[0;32m      8\u001b[0m \u001b[39m# M_list = chro[1]\u001b[39;00m\n\u001b[0;32m      9\u001b[0m \u001b[39m# Linguistic  = chro[2]\u001b[39;00m\n\u001b[0;32m     10\u001b[0m \u001b[39m# fuzzy = chro[3]\u001b[39;00m\n\u001b[0;32m     11\u001b[0m \u001b[39m# bein = chro[4]\u001b[39;00m\n",
      "\u001b[1;31mIndexError\u001b[0m: list index out of range"
     ]
    }
   ],
   "source": [
    "chro = create_chromosomes2(2)\n",
    "print(chro)\n",
    "print(chro[0][structure][0][linguistic_variable])\n",
    "print(chro[0][structure][0])\n",
    "\n",
    "print(chro[1])\n",
    "# parent1_linguistic = chro[0][structure][0][linguistic_variable]\n",
    "# M_list = chro[1]\n",
    "# Linguistic  = chro[2]\n",
    "# fuzzy = chro[3]\n",
    "# bein = chro[4]"
   ]
  },
  {
   "cell_type": "code",
   "execution_count": 81,
   "metadata": {},
   "outputs": [
    {
     "name": "stdout",
     "output_type": "stream",
     "text": [
      "[{'linguistic variable': ['very high', 'very high', 'very high', 'very low', 'very high'], 'S': [32.596711071523536, 68.39882631651919, 56.40827836071976, 60.61847840727436, 51.65105943998097], 'M': [-5.5259391039227115, -7.571571529173755, -7.081225815838716, 4.585465403351192, 6.072883786116147], 'fuzzy set': [2, 2, 3, 2, 3], 'rule': [0, 1, 0, 0, 0]}, {'linguistic variable': ['medium', 'medium', 'high', 'very high'], 'S': [33.208655930136864, 48.097965454433734, 52.02950590854715, 55.11272757565], 'M': [-4.852330715404463, -6.256026259986893, 3.8840704573367475, -3.4523265000572803], 'fuzzy set': [4, 4, 1, 1], 'rule': [1, 1, 1, 0]}, {'linguistic variable': ['medium', 'very low', 'medium'], 'S': [8.496831756967076, 46.468054096655436, 2.061838472863996], 'M': [4.7348476826040375, -1.792698928521272, -7.432560455724317], 'fuzzy set': [1, 3, 4], 'rule': [1, 1, 0]}, {'linguistic variable': ['medium', 'very high', 'high', 'very low'], 'S': [39.62313763610024, 52.38734210609523, 14.693163751694685, 38.91901509810142], 'M': [-5.1389021221765905, -0.14348176086715547, 0.44653887945362847, -6.417622434480349], 'fuzzy set': [2, 3, 4, 2], 'rule': [0, 1, 1, 1]}, {'linguistic variable': ['low', 'high', 'low'], 'S': [40.632665222329905, 16.68430823768084, 69.01011754897449], 'M': [6.541930071613738, 4.175086560341462, -0.9145276035068637], 'fuzzy set': [4, 2, 3], 'rule': [0, 0, 0]}]\n",
      "{'linguistic variable': ['very high', 'very high', 'very high', 'very low', 'very high'], 'S': [32.596711071523536, 68.39882631651919, 56.40827836071976, 60.61847840727436, 51.65105943998097], 'M': [-5.5259391039227115, -7.571571529173755, -7.081225815838716, 4.585465403351192, 6.072883786116147], 'fuzzy set': [2, 2, 3, 2, 3], 'rule': [0, 1, 0, 0, 0]}\n",
      "['very high', 'very high', 'very high', 'very low', 'very high']\n",
      "['very high', 'very high', 'very high', 'very low', 'very high']\n"
     ]
    }
   ],
   "source": [
    "chro  = create_chromosomes2(2)\n",
    "# for i in range(2):\n",
    "#     print(chro[i])\n",
    "print(chro[0])\n",
    "print(chro[0][0])\n",
    "print(chro[0][0][linguistic_variable])\n",
    "print(chro[0][0][linguistic_variable])\n",
    "\n",
    "\n"
   ]
  },
  {
   "cell_type": "code",
   "execution_count": 60,
   "metadata": {},
   "outputs": [
    {
     "name": "stdout",
     "output_type": "stream",
     "text": [
      "[{'linguistic variable': ['low', 'very high', 'very low', 'medium'], 'S': [47.15096739106358, 79.11089297831543, 47.910608571410876, 86.85504754515286], 'M': [36.33283690901956, 61.23470392098703, 52.089426127669746, 5.3391031450680355], 'fuzzy set': [2, 2, 2, 2]}, {'linguistic variable': ['medium', 'high', 'very low', 'low', 'medium'], 'S': [29.571273489965844, 43.901808553456476, 30.31425834771051, 40.1458306523389, 18.82402395464896], 'M': [30.00898926092107, 90.08026076830691, 99.087518640855, 17.060787735349038, 55.25312844381642], 'fuzzy set': [1, 1, 4, 1, 1]}, {'linguistic variable': ['very high', 'medium', 'medium', 'high', 'very low'], 'S': [86.63880093040108, 74.38036992160883, 14.786775834164413, 68.19964063166195, 62.41156816114846], 'M': [24.286364467955668, 53.5894768453826, 58.100853707152666, 51.243738255906756, 33.26435239314917], 'fuzzy set': [4, 3, 4, 4, 3]}, {'linguistic variable': ['low', 'high', 'medium', 'low'], 'S': [30.954154127198663, 10.456532145358, 39.14191641891257, 1.3849768477882884], 'M': [42.83345213969506, 91.80511470449906, 44.260871176359785, 31.39321674095048], 'fuzzy set': [1, 1, 3, 3]}, {'linguistic variable': ['very low', 'high', 'very low', 'very low'], 'S': [72.87326761623648, 25.9226993153996, 49.641620272876786, 35.98267235216296], 'M': [32.90054754156224, 10.211453518488977, 34.79440042934252, 51.47562978744526], 'fuzzy set': [1, 4, 4, 1]}]\n",
      "[{'linguistic variable': ['medium', 'very high', 'very low'], 'S': [98.37401832829732, 79.70768292751809, 5.657708573901021], 'M': [54.93946937964088, 95.43932358913854, 17.719207174007103], 'fuzzy set': [2, 4, 3]}, {'linguistic variable': ['low', 'very low', 'very low', 'medium', 'high'], 'S': [54.242171863840284, 19.373147916562385, 89.96217625853329, 94.41284898705233, 33.819182059814565], 'M': [77.06543367379808, 76.25764514981545, 47.9489088711796, 94.48440645157969, 67.38265728426781], 'fuzzy set': [3, 1, 3, 1, 2]}, {'linguistic variable': ['low', 'very high', 'very high'], 'S': [93.9591148366977, 50.87496129247893, 45.98667661778815], 'M': [97.579033796796, 21.734865787121116, 19.063723430859657], 'fuzzy set': [3, 3, 3]}, {'linguistic variable': ['very low', 'very high', 'high'], 'S': [10.745846891988931, 37.75903490985185, 97.93062109017032], 'M': [67.03405404991621, 91.88080602436628, 76.43760606155628], 'fuzzy set': [1, 2, 3]}, {'linguistic variable': ['medium', 'high', 'low'], 'S': [81.34967745033805, 84.74357676846664, 56.39937474476907], 'M': [39.53746887764861, 61.439245647585174, 99.70635214519326], 'fuzzy set': [3, 1, 2]}]\n"
     ]
    }
   ],
   "source": [
    "two_chro = create_chromosomes2(2)\n",
    "# print(two_chro)\n",
    "# print(len(two_chro))\n",
    "parent1 = two_chro[0]\n",
    "parent2 = two_chro[1]\n",
    "print(parent1)\n",
    "print(parent2)\n",
    "\n"
   ]
  },
  {
   "cell_type": "code",
   "execution_count": 76,
   "metadata": {},
   "outputs": [
    {
     "name": "stdout",
     "output_type": "stream",
     "text": [
      "[{'linguistic variable': ['low', 'very high', 'very low'], 'S': [47.15096739106358, 79.11089297831543, 47.910608571410876], 'M': [36.33283690901956, 61.23470392098703, 52.089426127669746], 'fuzzy set': [2, 2, 2]}, {'linguistic variable': ['medium', 'high', 'very low', 'low', 'medium'], 'S': [29.571273489965844, 43.901808553456476, 30.31425834771051, 40.1458306523389, 18.82402395464896], 'M': [30.00898926092107, 90.08026076830691, 99.087518640855, 17.060787735349038, 55.25312844381642], 'fuzzy set': [1, 1, 4, 1, 1]}, {'linguistic variable': ['very high', 'medium', 'medium', 'high', 'very low'], 'S': [86.63880093040108, 74.38036992160883, 14.786775834164413, 68.19964063166195, 62.41156816114846], 'M': [24.286364467955668, 53.5894768453826, 58.100853707152666, 51.243738255906756, 33.26435239314917], 'fuzzy set': [4, 3, 4, 4, 3]}, {'linguistic variable': ['low', 'high', 'medium', 'low'], 'S': [30.954154127198663, 10.456532145358, 39.14191641891257, 1.3849768477882884], 'M': [42.83345213969506, 91.80511470449906, 44.260871176359785, 31.39321674095048], 'fuzzy set': [1, 1, 3, 3]}, {'linguistic variable': ['very low', 'high', 'very low', 'very low'], 'S': [72.87326761623648, 25.9226993153996, 49.641620272876786, 35.98267235216296], 'M': [32.90054754156224, 10.211453518488977, 34.79440042934252, 51.47562978744526], 'fuzzy set': [1, 4, 4, 1]}]\n",
      "[{'linguistic variable': ['medium', 'very high', 'very low', 'medium'], 'S': [98.37401832829732, 79.70768292751809, 5.657708573901021, 86.85504754515286], 'M': [54.93946937964088, 95.43932358913854, 17.719207174007103, 5.3391031450680355], 'fuzzy set': [2, 4, 3, 2]}, {'linguistic variable': ['low', 'very low', 'very low', 'medium', 'high'], 'S': [54.242171863840284, 19.373147916562385, 89.96217625853329, 94.41284898705233, 33.819182059814565], 'M': [77.06543367379808, 76.25764514981545, 47.9489088711796, 94.48440645157969, 67.38265728426781], 'fuzzy set': [3, 1, 3, 1, 2]}, {'linguistic variable': ['low', 'very high', 'very high'], 'S': [93.9591148366977, 50.87496129247893, 45.98667661778815], 'M': [97.579033796796, 21.734865787121116, 19.063723430859657], 'fuzzy set': [3, 3, 3]}, {'linguistic variable': ['very low', 'very high', 'high'], 'S': [10.745846891988931, 37.75903490985185, 97.93062109017032], 'M': [67.03405404991621, 91.88080602436628, 76.43760606155628], 'fuzzy set': [1, 2, 3]}, {'linguistic variable': ['medium', 'high', 'low'], 'S': [81.34967745033805, 84.74357676846664, 56.39937474476907], 'M': [39.53746887764861, 61.439245647585174, 99.70635214519326], 'fuzzy set': [3, 1, 2]}]\n",
      "[{'linguistic variable': ['low', 'very high', 'very low', 'medium'], 'S': [47.15096739106358, 79.11089297831543, 47.910608571410876, 86.85504754515286], 'M': [36.33283690901956, 61.23470392098703, 52.089426127669746, 5.3391031450680355], 'fuzzy set': [2, 2, 2, 2]}, {'linguistic variable': ['medium', 'high', 'very low', 'low', 'medium', 'high'], 'S': [29.571273489965844, 43.901808553456476, 30.31425834771051, 40.1458306523389, 18.82402395464896, 33.819182059814565], 'M': [30.00898926092107, 90.08026076830691, 99.087518640855, 17.060787735349038, 55.25312844381642, 67.38265728426781], 'fuzzy set': [1, 1, 4, 1, 1, 2]}, {'linguistic variable': ['very high', 'medium', 'medium', 'high', 'very low', 'very high'], 'S': [86.63880093040108, 74.38036992160883, 14.786775834164413, 68.19964063166195, 62.41156816114846, 45.98667661778815], 'M': [24.286364467955668, 53.5894768453826, 58.100853707152666, 51.243738255906756, 33.26435239314917, 19.063723430859657], 'fuzzy set': [4, 3, 4, 4, 3, 3]}, {'linguistic variable': ['low', 'high', 'medium', 'low', 'high'], 'S': [30.954154127198663, 10.456532145358, 39.14191641891257, 1.3849768477882884, 97.93062109017032], 'M': [42.83345213969506, 91.80511470449906, 44.260871176359785, 31.39321674095048, 76.43760606155628], 'fuzzy set': [1, 1, 3, 3, 3]}, {'linguistic variable': ['very low', 'high', 'very low', 'very low', 'low'], 'S': [72.87326761623648, 25.9226993153996, 49.641620272876786, 35.98267235216296, 56.39937474476907], 'M': [32.90054754156224, 10.211453518488977, 34.79440042934252, 51.47562978744526, 99.70635214519326], 'fuzzy set': [1, 4, 4, 1, 2]}]\n",
      "[{'linguistic variable': ['medium', 'very high', 'very low'], 'S': [98.37401832829732, 79.70768292751809, 5.657708573901021], 'M': [54.93946937964088, 95.43932358913854, 17.719207174007103], 'fuzzy set': [2, 4, 3]}, {'linguistic variable': ['low', 'very low', 'very low', 'medium'], 'S': [54.242171863840284, 19.373147916562385, 89.96217625853329, 94.41284898705233], 'M': [77.06543367379808, 76.25764514981545, 47.9489088711796, 94.48440645157969], 'fuzzy set': [3, 1, 3, 1]}, {'linguistic variable': ['low', 'very high'], 'S': [93.9591148366977, 50.87496129247893], 'M': [97.579033796796, 21.734865787121116], 'fuzzy set': [3, 3]}, {'linguistic variable': ['very low', 'very high'], 'S': [10.745846891988931, 37.75903490985185], 'M': [67.03405404991621, 91.88080602436628], 'fuzzy set': [1, 2]}, {'linguistic variable': ['medium', 'high'], 'S': [81.34967745033805, 84.74357676846664], 'M': [39.53746887764861, 61.439245647585174], 'fuzzy set': [3, 1]}]\n"
     ]
    }
   ],
   "source": [
    "print(parent1)\n",
    "print(parent2)\n",
    "child1, child2 = crossover(parent1, parent2)\n",
    "print(child1)\n",
    "print(child2)\n"
   ]
  },
  {
   "cell_type": "code",
   "execution_count": 82,
   "metadata": {},
   "outputs": [],
   "source": [
    "\n",
    "def crossover_continuous(parent1, parent2):    #پیوسته\n",
    "    alpha = 0.25\n",
    "    if len(parent1) > len(parent2):\n",
    "        indexes = [random.randint(0, 4) % 5 for i in range(len(parent2))]\n",
    "        for i in range(len(parent2)):\n",
    "            if parent2[i] > parent1[indexes[i]]:\n",
    "                distance = parent2[i] - parent1[indexes[i]]\n",
    "                offspring1.append(parent1[indexes[i]] + alpha * distance)\n",
    "                offspring2.append(parent2[i] - alpha * distance)\n",
    "            else:\n",
    "                distance = parent1[indexes[i]] - parent2[i]\n",
    "                offspring1.append(parent2[i] + alpha * distance)\n",
    "                offspring2.append(parent1[indexes[i]] - alpha * distance)\n",
    "                \n",
    "        temp = [item for item in [0, 1, 2 , 3, 4] if item not in indexes]\n",
    "        for i in range(len(temp)):\n",
    "        offspring1.append(parent1[temp[i]])\n",
    "        \n",
    "    else:\n",
    "        indexes = [random.random(0, 4) % 5 for i in range(len(parent1))]\n",
    "        for i in range(len(parent1)):\n",
    "            if parent1[i] > parent2[indexes[i]]:\n",
    "                distance = parent1[i] - parent2[indexes[i]]\n",
    "                offspring1.append(parent2[indexes[i]] + alpha * distance)\n",
    "                offspring2.append(parent1[i] - alpha * distance)\n",
    "            else:\n",
    "                distance = parent2[indexes[i]] - parent1[i]\n",
    "                offspring1.append(parent1[i] + alpha * distance)\n",
    "                offspring2.append(parent2[indexes[i]] - alpha * distance)\n",
    "                \n",
    "        temp = [item for item in [0, 1, 2 , 3, 4] if item not in indexes]\n",
    "        for i in range(len(temp)):\n",
    "        offspring2.append(parent2[temp[i]])\n",
    "    \n",
    "    return offspring1, offspring2"
   ]
  },
  {
   "cell_type": "code",
   "execution_count": null,
   "metadata": {},
   "outputs": [],
   "source": [
    "# This function takes in two parents (sequences) and creates two offsprings by performing a continuous crossover.\n",
    "def crossover_continuous(parent1, parent2):    \n",
    "    # Set the alpha value for the crossover.\n",
    "    alpha = 0.25\n",
    "    # If the first sequence is longer than the second one:\n",
    "    if len(parent1) > len(parent2):\n",
    "        # Generate a list of random indexes for the shorter sequence.\n",
    "        indexes = [random.randint(0, 4) % 5 for i in range(len(parent2))]\n",
    "        # For each index in the shorter parent: if the corresponding element in the longer parent is greater, perform a crossover calculation using alpha and add the results to offspring1 and offspring2. Otherwise, perform the calculation using the reverse order and add the results to offspring1 and offspring2.\n",
    "        for i in range(len(parent2)):\n",
    "            if parent2[i] > parent1[indexes[i]]:\n",
    "                distance = parent2[i] - parent1[indexes[i]]\n",
    "                offspring1.append(parent1[indexes[i]] + alpha * distance)\n",
    "                offspring2.append(parent2[i] - alpha * distance)\n",
    "            else:\n",
    "                distance = parent1[indexes[i]] - parent2[i]\n",
    "                offspring1.append(parent2[i] + alpha * distance)\n",
    "                offspring2.append(parent1[indexes[i]] - alpha * distance)\n",
    "                \n",
    "        # Add the remaining elements of the longer parent to the first offspring.     \n",
    "        temp = [item for item in [0, 1, 2 , 3, 4] if item not in indexes]\n",
    "        for i in range(len(temp)):\n",
    "            offspring1.append(parent1[temp[i]])\n",
    "        \n",
    "    # If the second sequence is longer than or the same length as the first one:\n",
    "    else:\n",
    "        # Generate a list of random indexes for the shorter sequence.\n",
    "        indexes = [random.random(0, 4) % 5 for i in range(len(parent1))]\n",
    "        # For each index in the shorter parent: if the corresponding element in the longer parent is greater, perform a crossover calculation using alpha and add the results to offspring1 and offspring2. Otherwise, perform the calculation using the reverse order and add the results to offspring1 and offspring2.\n",
    "        for i in range(len(parent1)):\n",
    "            if parent1[i] > parent2[indexes[i]]:\n",
    "                distance = parent1[i] - parent2[indexes[i]]\n",
    "                offspring1.append(parent2[indexes[i]] + alpha * distance)\n",
    "                offspring2.append(parent1[i] - alpha * distance)\n",
    "            else:\n",
    "                distance = parent2[indexes[i]] - parent1[i]\n",
    "                offspring1.append(parent1[i] + alpha * distance)\n",
    "                offspring2.append(parent2[indexes[i]] - alpha * distance)\n",
    "                \n",
    "        # Add the remaining elements of the longer parent to the second offspring. \n",
    "        temp = [item for item in [0, 1, 2 , 3, 4] if item not in indexes]\n",
    "        for i in range(len(temp)):\n",
    "            offspring2.append(parent2[temp[i]])\n",
    "    \n",
    "    # Return the two new offspring.\n",
    "    return offspring1, offspring2\n"
   ]
  },
  {
   "cell_type": "code",
   "execution_count": 83,
   "metadata": {},
   "outputs": [],
   "source": [
    "def crossover_discrete(parent1, parent2):   # گسسته\n",
    "    if len(parent1) > len(parent2):\n",
    "        indexes = [random.random(0,4) % 5 for i in range(len(parent2))]\n",
    "        for i in range(len(parent1)):\n",
    "            if i in indexes:\n",
    "                offspring2.append(parent1[i])\n",
    "            else:\n",
    "                offspring1.append(parent1[i])\n",
    "        offspring1.extend(parent2)     \n",
    "    else:\n",
    "        indexes = [random.random(0,4) % 5 for i in range(len(parent1))]\n",
    "        for i in range(len(parent2)):\n",
    "            if i in indexes:\n",
    "                offspring1.append(parent2[i])\n",
    "            else:\n",
    "                offspring2.append(parent2[i])\n",
    "        offspring2.extend(parent1)  \n",
    "    \n",
    "    return offspring1, offspring2 \n",
    "        "
   ]
  },
  {
   "cell_type": "code",
   "execution_count": null,
   "metadata": {},
   "outputs": [],
   "source": [
    "# This function takes in two parents (sequences) and creates two offsprings by performing a discrete crossover.\n",
    "def crossover_discrete(parent1, parent2):   \n",
    "    # If the first sequence is longer than the second one:\n",
    "    if len(parent1) > len(parent2):\n",
    "        # Generate a list of random indexes for the shorter sequence.\n",
    "        indexes = [random.random(0,4) % 5 for i in range(len(parent2))]\n",
    "        # For each index in parent1: if it's in indexes, add the corresponding element to offspring2. Otherwise, add it to offspring1. \n",
    "        for i in range(len(parent1)):\n",
    "            if i in indexes:\n",
    "                offspring2.append(parent1[i])\n",
    "            else:\n",
    "                offspring1.append(parent1[i])\n",
    "        # Add all of parent2 to offspring1.\n",
    "        offspring1.extend(parent2)     \n",
    "    # If the second sequence is longer than or the same length as the first one:\n",
    "    else:\n",
    "        # Generate a list of random indexes for the shorter sequence.\n",
    "        indexes = [random.random(0,4) % 5 for i in range(len(parent1))]\n",
    "        # For each index in parent2: if it's in indexes, add the corresponding element to offspring1. Otherwise, add it to offspring2. \n",
    "        for i in range(len(parent2)):\n",
    "            if i in indexes:\n",
    "                offspring1.append(parent2[i])\n",
    "            else:\n",
    "                offspring2.append(parent2[i])\n",
    "        # Add all of parent1 to offspring2.\n",
    "        offspring2.extend(parent1)\n",
    "    \n",
    "    # Return the two new offspring.\n",
    "    return offspring1, offspring2 \n"
   ]
  },
  {
   "cell_type": "code",
   "execution_count": null,
   "metadata": {},
   "outputs": [],
   "source": [
    "def Crossover(parent1, parent2):\n",
    "    structure1 = dict()\n",
    "    structure2 = dict()\n",
    "    \n",
    "    structure1[linguistic_variable], structure2[linguistic_variable] = crossover_discrete(parent1[structure][linguistic_variable], parent2[structure][linguistic_variable])\n",
    "    structure1[type_Fuzzy_Set], structure2[type_Fuzzy_Set] = crossover_discrete(parent1[structure][type_Fuzzy_Set], parent2[structure][type_Fuzzy_Set])\n",
    "    structure1[Paramerter_M], structure2[Paramerter_M] = crossover_continuous(parent1[structure][Paramerter_M], parent2[structure][Paramerter_M])\n",
    "    structure1[Paramerter_S], structure2[Paramerter_S] = crossover_continuous(parent1[structure][Paramerter_S], parent2[structure][Paramerter_S])\n",
    "    \n",
    "    rule1 = dict()\n",
    "    rule2 = dict()\n",
    "    \n",
    "    rule1[being], rule2[being] = crossover_discrete(parent1[rule][being], parent2[rule][being])\n",
    "    rule1[not_list], rule2[not_list] = crossover_discrete(parent1[rule][not_list], parent2[rule][not_list])\n",
    "    rule1[term_choice], rule2[term_choice] = crossover_discrete(parent1[rule][term_choice], parent2[rule][term_choice])\n",
    "    \n",
    "    offspring1 = dict()\n",
    "    offspring1[structure] = structure1\n",
    "    offspring1[rule] = rule1\n",
    "    \n",
    "    offspring2 = dict()\n",
    "    offspring2[structure] = structure2\n",
    "    offspring2[rule] = rule2\n",
    "    \n",
    "    return offspring1, offspring2\n",
    "\n",
    "    "
   ]
  }
 ],
 "metadata": {
  "kernelspec": {
   "display_name": "Python 3",
   "language": "python",
   "name": "python3"
  },
  "language_info": {
   "codemirror_mode": {
    "name": "ipython",
    "version": 3
   },
   "file_extension": ".py",
   "mimetype": "text/x-python",
   "name": "python",
   "nbconvert_exporter": "python",
   "pygments_lexer": "ipython3",
   "version": "3.10.11"
  },
  "orig_nbformat": 4
 },
 "nbformat": 4,
 "nbformat_minor": 2
}
